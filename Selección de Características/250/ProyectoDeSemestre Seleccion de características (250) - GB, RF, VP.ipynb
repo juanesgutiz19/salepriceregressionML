{
 "cells": [
  {
   "cell_type": "code",
   "execution_count": 134,
   "metadata": {
    "colab": {
     "base_uri": "https://localhost:8080/"
    },
    "id": "YEpYV0nmfgIg",
    "outputId": "58d083df-8936-4637-e1f7-3e8035841012"
   },
   "outputs": [],
   "source": [
    "import pandas as pd "
   ]
  },
  {
   "cell_type": "code",
   "execution_count": 135,
   "metadata": {
    "colab": {
     "base_uri": "https://localhost:8080/",
     "height": 246
    },
    "id": "7Bcwudjdgj9H",
    "outputId": "7267d4b0-d003-41ea-9a46-c65956e67888"
   },
   "outputs": [
    {
     "data": {
      "text/html": [
       "<div>\n",
       "<style scoped>\n",
       "    .dataframe tbody tr th:only-of-type {\n",
       "        vertical-align: middle;\n",
       "    }\n",
       "\n",
       "    .dataframe tbody tr th {\n",
       "        vertical-align: top;\n",
       "    }\n",
       "\n",
       "    .dataframe thead th {\n",
       "        text-align: right;\n",
       "    }\n",
       "</style>\n",
       "<table border=\"1\" class=\"dataframe\">\n",
       "  <thead>\n",
       "    <tr style=\"text-align: right;\">\n",
       "      <th></th>\n",
       "      <th>Id</th>\n",
       "      <th>MSSubClass</th>\n",
       "      <th>MSZoning</th>\n",
       "      <th>LotFrontage</th>\n",
       "      <th>LotArea</th>\n",
       "      <th>Street</th>\n",
       "      <th>Alley</th>\n",
       "      <th>LotShape</th>\n",
       "      <th>LandContour</th>\n",
       "      <th>Utilities</th>\n",
       "      <th>...</th>\n",
       "      <th>PoolArea</th>\n",
       "      <th>PoolQC</th>\n",
       "      <th>Fence</th>\n",
       "      <th>MiscFeature</th>\n",
       "      <th>MiscVal</th>\n",
       "      <th>MoSold</th>\n",
       "      <th>YrSold</th>\n",
       "      <th>SaleType</th>\n",
       "      <th>SaleCondition</th>\n",
       "      <th>SalePrice</th>\n",
       "    </tr>\n",
       "  </thead>\n",
       "  <tbody>\n",
       "    <tr>\n",
       "      <th>1455</th>\n",
       "      <td>1456</td>\n",
       "      <td>60</td>\n",
       "      <td>RL</td>\n",
       "      <td>62.0</td>\n",
       "      <td>7917</td>\n",
       "      <td>Pave</td>\n",
       "      <td>NaN</td>\n",
       "      <td>Reg</td>\n",
       "      <td>Lvl</td>\n",
       "      <td>AllPub</td>\n",
       "      <td>...</td>\n",
       "      <td>0</td>\n",
       "      <td>NaN</td>\n",
       "      <td>NaN</td>\n",
       "      <td>NaN</td>\n",
       "      <td>0</td>\n",
       "      <td>8</td>\n",
       "      <td>2007</td>\n",
       "      <td>WD</td>\n",
       "      <td>Normal</td>\n",
       "      <td>175000</td>\n",
       "    </tr>\n",
       "    <tr>\n",
       "      <th>1456</th>\n",
       "      <td>1457</td>\n",
       "      <td>20</td>\n",
       "      <td>RL</td>\n",
       "      <td>85.0</td>\n",
       "      <td>13175</td>\n",
       "      <td>Pave</td>\n",
       "      <td>NaN</td>\n",
       "      <td>Reg</td>\n",
       "      <td>Lvl</td>\n",
       "      <td>AllPub</td>\n",
       "      <td>...</td>\n",
       "      <td>0</td>\n",
       "      <td>NaN</td>\n",
       "      <td>MnPrv</td>\n",
       "      <td>NaN</td>\n",
       "      <td>0</td>\n",
       "      <td>2</td>\n",
       "      <td>2010</td>\n",
       "      <td>WD</td>\n",
       "      <td>Normal</td>\n",
       "      <td>210000</td>\n",
       "    </tr>\n",
       "    <tr>\n",
       "      <th>1457</th>\n",
       "      <td>1458</td>\n",
       "      <td>70</td>\n",
       "      <td>RL</td>\n",
       "      <td>66.0</td>\n",
       "      <td>9042</td>\n",
       "      <td>Pave</td>\n",
       "      <td>NaN</td>\n",
       "      <td>Reg</td>\n",
       "      <td>Lvl</td>\n",
       "      <td>AllPub</td>\n",
       "      <td>...</td>\n",
       "      <td>0</td>\n",
       "      <td>NaN</td>\n",
       "      <td>GdPrv</td>\n",
       "      <td>Shed</td>\n",
       "      <td>2500</td>\n",
       "      <td>5</td>\n",
       "      <td>2010</td>\n",
       "      <td>WD</td>\n",
       "      <td>Normal</td>\n",
       "      <td>266500</td>\n",
       "    </tr>\n",
       "    <tr>\n",
       "      <th>1458</th>\n",
       "      <td>1459</td>\n",
       "      <td>20</td>\n",
       "      <td>RL</td>\n",
       "      <td>68.0</td>\n",
       "      <td>9717</td>\n",
       "      <td>Pave</td>\n",
       "      <td>NaN</td>\n",
       "      <td>Reg</td>\n",
       "      <td>Lvl</td>\n",
       "      <td>AllPub</td>\n",
       "      <td>...</td>\n",
       "      <td>0</td>\n",
       "      <td>NaN</td>\n",
       "      <td>NaN</td>\n",
       "      <td>NaN</td>\n",
       "      <td>0</td>\n",
       "      <td>4</td>\n",
       "      <td>2010</td>\n",
       "      <td>WD</td>\n",
       "      <td>Normal</td>\n",
       "      <td>142125</td>\n",
       "    </tr>\n",
       "    <tr>\n",
       "      <th>1459</th>\n",
       "      <td>1460</td>\n",
       "      <td>20</td>\n",
       "      <td>RL</td>\n",
       "      <td>75.0</td>\n",
       "      <td>9937</td>\n",
       "      <td>Pave</td>\n",
       "      <td>NaN</td>\n",
       "      <td>Reg</td>\n",
       "      <td>Lvl</td>\n",
       "      <td>AllPub</td>\n",
       "      <td>...</td>\n",
       "      <td>0</td>\n",
       "      <td>NaN</td>\n",
       "      <td>NaN</td>\n",
       "      <td>NaN</td>\n",
       "      <td>0</td>\n",
       "      <td>6</td>\n",
       "      <td>2008</td>\n",
       "      <td>WD</td>\n",
       "      <td>Normal</td>\n",
       "      <td>147500</td>\n",
       "    </tr>\n",
       "  </tbody>\n",
       "</table>\n",
       "<p>5 rows × 81 columns</p>\n",
       "</div>"
      ],
      "text/plain": [
       "        Id  MSSubClass MSZoning  LotFrontage  LotArea Street Alley LotShape  \\\n",
       "1455  1456          60       RL         62.0     7917   Pave   NaN      Reg   \n",
       "1456  1457          20       RL         85.0    13175   Pave   NaN      Reg   \n",
       "1457  1458          70       RL         66.0     9042   Pave   NaN      Reg   \n",
       "1458  1459          20       RL         68.0     9717   Pave   NaN      Reg   \n",
       "1459  1460          20       RL         75.0     9937   Pave   NaN      Reg   \n",
       "\n",
       "     LandContour Utilities  ... PoolArea PoolQC  Fence MiscFeature MiscVal  \\\n",
       "1455         Lvl    AllPub  ...        0    NaN    NaN         NaN       0   \n",
       "1456         Lvl    AllPub  ...        0    NaN  MnPrv         NaN       0   \n",
       "1457         Lvl    AllPub  ...        0    NaN  GdPrv        Shed    2500   \n",
       "1458         Lvl    AllPub  ...        0    NaN    NaN         NaN       0   \n",
       "1459         Lvl    AllPub  ...        0    NaN    NaN         NaN       0   \n",
       "\n",
       "     MoSold YrSold  SaleType  SaleCondition  SalePrice  \n",
       "1455      8   2007        WD         Normal     175000  \n",
       "1456      2   2010        WD         Normal     210000  \n",
       "1457      5   2010        WD         Normal     266500  \n",
       "1458      4   2010        WD         Normal     142125  \n",
       "1459      6   2008        WD         Normal     147500  \n",
       "\n",
       "[5 rows x 81 columns]"
      ]
     },
     "execution_count": 135,
     "metadata": {},
     "output_type": "execute_result"
    }
   ],
   "source": [
    "train = pd.read_csv('datasets/HousePricesTrain.csv')\n",
    "train.tail()"
   ]
  },
  {
   "cell_type": "code",
   "execution_count": 136,
   "metadata": {},
   "outputs": [
    {
     "data": {
      "text/html": [
       "<div>\n",
       "<style scoped>\n",
       "    .dataframe tbody tr th:only-of-type {\n",
       "        vertical-align: middle;\n",
       "    }\n",
       "\n",
       "    .dataframe tbody tr th {\n",
       "        vertical-align: top;\n",
       "    }\n",
       "\n",
       "    .dataframe thead th {\n",
       "        text-align: right;\n",
       "    }\n",
       "</style>\n",
       "<table border=\"1\" class=\"dataframe\">\n",
       "  <thead>\n",
       "    <tr style=\"text-align: right;\">\n",
       "      <th></th>\n",
       "      <th>Id</th>\n",
       "      <th>MSSubClass</th>\n",
       "      <th>MSZoning</th>\n",
       "      <th>LotFrontage</th>\n",
       "      <th>LotArea</th>\n",
       "      <th>Street</th>\n",
       "      <th>Alley</th>\n",
       "      <th>LotShape</th>\n",
       "      <th>LandContour</th>\n",
       "      <th>Utilities</th>\n",
       "      <th>...</th>\n",
       "      <th>ScreenPorch</th>\n",
       "      <th>PoolArea</th>\n",
       "      <th>PoolQC</th>\n",
       "      <th>Fence</th>\n",
       "      <th>MiscFeature</th>\n",
       "      <th>MiscVal</th>\n",
       "      <th>MoSold</th>\n",
       "      <th>YrSold</th>\n",
       "      <th>SaleType</th>\n",
       "      <th>SaleCondition</th>\n",
       "    </tr>\n",
       "  </thead>\n",
       "  <tbody>\n",
       "    <tr>\n",
       "      <th>0</th>\n",
       "      <td>1461</td>\n",
       "      <td>20</td>\n",
       "      <td>RH</td>\n",
       "      <td>80.0</td>\n",
       "      <td>11622</td>\n",
       "      <td>Pave</td>\n",
       "      <td>NaN</td>\n",
       "      <td>Reg</td>\n",
       "      <td>Lvl</td>\n",
       "      <td>AllPub</td>\n",
       "      <td>...</td>\n",
       "      <td>120</td>\n",
       "      <td>0</td>\n",
       "      <td>NaN</td>\n",
       "      <td>MnPrv</td>\n",
       "      <td>NaN</td>\n",
       "      <td>0</td>\n",
       "      <td>6</td>\n",
       "      <td>2010</td>\n",
       "      <td>WD</td>\n",
       "      <td>Normal</td>\n",
       "    </tr>\n",
       "    <tr>\n",
       "      <th>1</th>\n",
       "      <td>1462</td>\n",
       "      <td>20</td>\n",
       "      <td>RL</td>\n",
       "      <td>81.0</td>\n",
       "      <td>14267</td>\n",
       "      <td>Pave</td>\n",
       "      <td>NaN</td>\n",
       "      <td>IR1</td>\n",
       "      <td>Lvl</td>\n",
       "      <td>AllPub</td>\n",
       "      <td>...</td>\n",
       "      <td>0</td>\n",
       "      <td>0</td>\n",
       "      <td>NaN</td>\n",
       "      <td>NaN</td>\n",
       "      <td>Gar2</td>\n",
       "      <td>12500</td>\n",
       "      <td>6</td>\n",
       "      <td>2010</td>\n",
       "      <td>WD</td>\n",
       "      <td>Normal</td>\n",
       "    </tr>\n",
       "    <tr>\n",
       "      <th>2</th>\n",
       "      <td>1463</td>\n",
       "      <td>60</td>\n",
       "      <td>RL</td>\n",
       "      <td>74.0</td>\n",
       "      <td>13830</td>\n",
       "      <td>Pave</td>\n",
       "      <td>NaN</td>\n",
       "      <td>IR1</td>\n",
       "      <td>Lvl</td>\n",
       "      <td>AllPub</td>\n",
       "      <td>...</td>\n",
       "      <td>0</td>\n",
       "      <td>0</td>\n",
       "      <td>NaN</td>\n",
       "      <td>MnPrv</td>\n",
       "      <td>NaN</td>\n",
       "      <td>0</td>\n",
       "      <td>3</td>\n",
       "      <td>2010</td>\n",
       "      <td>WD</td>\n",
       "      <td>Normal</td>\n",
       "    </tr>\n",
       "    <tr>\n",
       "      <th>3</th>\n",
       "      <td>1464</td>\n",
       "      <td>60</td>\n",
       "      <td>RL</td>\n",
       "      <td>78.0</td>\n",
       "      <td>9978</td>\n",
       "      <td>Pave</td>\n",
       "      <td>NaN</td>\n",
       "      <td>IR1</td>\n",
       "      <td>Lvl</td>\n",
       "      <td>AllPub</td>\n",
       "      <td>...</td>\n",
       "      <td>0</td>\n",
       "      <td>0</td>\n",
       "      <td>NaN</td>\n",
       "      <td>NaN</td>\n",
       "      <td>NaN</td>\n",
       "      <td>0</td>\n",
       "      <td>6</td>\n",
       "      <td>2010</td>\n",
       "      <td>WD</td>\n",
       "      <td>Normal</td>\n",
       "    </tr>\n",
       "    <tr>\n",
       "      <th>4</th>\n",
       "      <td>1465</td>\n",
       "      <td>120</td>\n",
       "      <td>RL</td>\n",
       "      <td>43.0</td>\n",
       "      <td>5005</td>\n",
       "      <td>Pave</td>\n",
       "      <td>NaN</td>\n",
       "      <td>IR1</td>\n",
       "      <td>HLS</td>\n",
       "      <td>AllPub</td>\n",
       "      <td>...</td>\n",
       "      <td>144</td>\n",
       "      <td>0</td>\n",
       "      <td>NaN</td>\n",
       "      <td>NaN</td>\n",
       "      <td>NaN</td>\n",
       "      <td>0</td>\n",
       "      <td>1</td>\n",
       "      <td>2010</td>\n",
       "      <td>WD</td>\n",
       "      <td>Normal</td>\n",
       "    </tr>\n",
       "    <tr>\n",
       "      <th>5</th>\n",
       "      <td>1466</td>\n",
       "      <td>60</td>\n",
       "      <td>RL</td>\n",
       "      <td>75.0</td>\n",
       "      <td>10000</td>\n",
       "      <td>Pave</td>\n",
       "      <td>NaN</td>\n",
       "      <td>IR1</td>\n",
       "      <td>Lvl</td>\n",
       "      <td>AllPub</td>\n",
       "      <td>...</td>\n",
       "      <td>0</td>\n",
       "      <td>0</td>\n",
       "      <td>NaN</td>\n",
       "      <td>NaN</td>\n",
       "      <td>NaN</td>\n",
       "      <td>0</td>\n",
       "      <td>4</td>\n",
       "      <td>2010</td>\n",
       "      <td>WD</td>\n",
       "      <td>Normal</td>\n",
       "    </tr>\n",
       "    <tr>\n",
       "      <th>6</th>\n",
       "      <td>1467</td>\n",
       "      <td>20</td>\n",
       "      <td>RL</td>\n",
       "      <td>NaN</td>\n",
       "      <td>7980</td>\n",
       "      <td>Pave</td>\n",
       "      <td>NaN</td>\n",
       "      <td>IR1</td>\n",
       "      <td>Lvl</td>\n",
       "      <td>AllPub</td>\n",
       "      <td>...</td>\n",
       "      <td>0</td>\n",
       "      <td>0</td>\n",
       "      <td>NaN</td>\n",
       "      <td>GdPrv</td>\n",
       "      <td>Shed</td>\n",
       "      <td>500</td>\n",
       "      <td>3</td>\n",
       "      <td>2010</td>\n",
       "      <td>WD</td>\n",
       "      <td>Normal</td>\n",
       "    </tr>\n",
       "    <tr>\n",
       "      <th>7</th>\n",
       "      <td>1468</td>\n",
       "      <td>60</td>\n",
       "      <td>RL</td>\n",
       "      <td>63.0</td>\n",
       "      <td>8402</td>\n",
       "      <td>Pave</td>\n",
       "      <td>NaN</td>\n",
       "      <td>IR1</td>\n",
       "      <td>Lvl</td>\n",
       "      <td>AllPub</td>\n",
       "      <td>...</td>\n",
       "      <td>0</td>\n",
       "      <td>0</td>\n",
       "      <td>NaN</td>\n",
       "      <td>NaN</td>\n",
       "      <td>NaN</td>\n",
       "      <td>0</td>\n",
       "      <td>5</td>\n",
       "      <td>2010</td>\n",
       "      <td>WD</td>\n",
       "      <td>Normal</td>\n",
       "    </tr>\n",
       "    <tr>\n",
       "      <th>8</th>\n",
       "      <td>1469</td>\n",
       "      <td>20</td>\n",
       "      <td>RL</td>\n",
       "      <td>85.0</td>\n",
       "      <td>10176</td>\n",
       "      <td>Pave</td>\n",
       "      <td>NaN</td>\n",
       "      <td>Reg</td>\n",
       "      <td>Lvl</td>\n",
       "      <td>AllPub</td>\n",
       "      <td>...</td>\n",
       "      <td>0</td>\n",
       "      <td>0</td>\n",
       "      <td>NaN</td>\n",
       "      <td>NaN</td>\n",
       "      <td>NaN</td>\n",
       "      <td>0</td>\n",
       "      <td>2</td>\n",
       "      <td>2010</td>\n",
       "      <td>WD</td>\n",
       "      <td>Normal</td>\n",
       "    </tr>\n",
       "    <tr>\n",
       "      <th>9</th>\n",
       "      <td>1470</td>\n",
       "      <td>20</td>\n",
       "      <td>RL</td>\n",
       "      <td>70.0</td>\n",
       "      <td>8400</td>\n",
       "      <td>Pave</td>\n",
       "      <td>NaN</td>\n",
       "      <td>Reg</td>\n",
       "      <td>Lvl</td>\n",
       "      <td>AllPub</td>\n",
       "      <td>...</td>\n",
       "      <td>0</td>\n",
       "      <td>0</td>\n",
       "      <td>NaN</td>\n",
       "      <td>MnPrv</td>\n",
       "      <td>NaN</td>\n",
       "      <td>0</td>\n",
       "      <td>4</td>\n",
       "      <td>2010</td>\n",
       "      <td>WD</td>\n",
       "      <td>Normal</td>\n",
       "    </tr>\n",
       "  </tbody>\n",
       "</table>\n",
       "<p>10 rows × 80 columns</p>\n",
       "</div>"
      ],
      "text/plain": [
       "     Id  MSSubClass MSZoning  LotFrontage  LotArea Street Alley LotShape  \\\n",
       "0  1461          20       RH         80.0    11622   Pave   NaN      Reg   \n",
       "1  1462          20       RL         81.0    14267   Pave   NaN      IR1   \n",
       "2  1463          60       RL         74.0    13830   Pave   NaN      IR1   \n",
       "3  1464          60       RL         78.0     9978   Pave   NaN      IR1   \n",
       "4  1465         120       RL         43.0     5005   Pave   NaN      IR1   \n",
       "5  1466          60       RL         75.0    10000   Pave   NaN      IR1   \n",
       "6  1467          20       RL          NaN     7980   Pave   NaN      IR1   \n",
       "7  1468          60       RL         63.0     8402   Pave   NaN      IR1   \n",
       "8  1469          20       RL         85.0    10176   Pave   NaN      Reg   \n",
       "9  1470          20       RL         70.0     8400   Pave   NaN      Reg   \n",
       "\n",
       "  LandContour Utilities  ... ScreenPorch PoolArea PoolQC  Fence MiscFeature  \\\n",
       "0         Lvl    AllPub  ...         120        0    NaN  MnPrv         NaN   \n",
       "1         Lvl    AllPub  ...           0        0    NaN    NaN        Gar2   \n",
       "2         Lvl    AllPub  ...           0        0    NaN  MnPrv         NaN   \n",
       "3         Lvl    AllPub  ...           0        0    NaN    NaN         NaN   \n",
       "4         HLS    AllPub  ...         144        0    NaN    NaN         NaN   \n",
       "5         Lvl    AllPub  ...           0        0    NaN    NaN         NaN   \n",
       "6         Lvl    AllPub  ...           0        0    NaN  GdPrv        Shed   \n",
       "7         Lvl    AllPub  ...           0        0    NaN    NaN         NaN   \n",
       "8         Lvl    AllPub  ...           0        0    NaN    NaN         NaN   \n",
       "9         Lvl    AllPub  ...           0        0    NaN  MnPrv         NaN   \n",
       "\n",
       "  MiscVal MoSold  YrSold  SaleType  SaleCondition  \n",
       "0       0      6    2010        WD         Normal  \n",
       "1   12500      6    2010        WD         Normal  \n",
       "2       0      3    2010        WD         Normal  \n",
       "3       0      6    2010        WD         Normal  \n",
       "4       0      1    2010        WD         Normal  \n",
       "5       0      4    2010        WD         Normal  \n",
       "6     500      3    2010        WD         Normal  \n",
       "7       0      5    2010        WD         Normal  \n",
       "8       0      2    2010        WD         Normal  \n",
       "9       0      4    2010        WD         Normal  \n",
       "\n",
       "[10 rows x 80 columns]"
      ]
     },
     "execution_count": 136,
     "metadata": {},
     "output_type": "execute_result"
    }
   ],
   "source": [
    "test = pd.read_csv('datasets/test.csv')\n",
    "test.head(10)"
   ]
  },
  {
   "cell_type": "code",
   "execution_count": 137,
   "metadata": {
    "id": "jyL7BF7XvjM5"
   },
   "outputs": [],
   "source": [
    "# Essentials\n",
    "import numpy as np\n",
    "import pandas as pd\n",
    "import datetime\n",
    "import random\n",
    "\n",
    "# Plots\n",
    "import seaborn as sns\n",
    "import matplotlib.pyplot as plt\n",
    "\n",
    "# Models\n",
    "from sklearn.ensemble import RandomForestRegressor, GradientBoostingRegressor, AdaBoostRegressor, BaggingRegressor\n",
    "from sklearn.kernel_ridge import KernelRidge\n",
    "from sklearn.linear_model import Ridge, RidgeCV\n",
    "from sklearn.linear_model import ElasticNet, ElasticNetCV\n",
    "from sklearn.svm import SVR\n",
    "\n",
    "# Stats\n",
    "from scipy.stats import skew, norm\n",
    "from scipy.special import boxcox1p\n",
    "from scipy.stats import boxcox_normmax\n",
    "\n",
    "# Misc\n",
    "from sklearn.model_selection import GridSearchCV\n",
    "from sklearn.model_selection import KFold, cross_val_score\n",
    "from sklearn.metrics import mean_squared_error\n",
    "from sklearn.preprocessing import OneHotEncoder\n",
    "from sklearn.preprocessing import LabelEncoder\n",
    "from sklearn.pipeline import make_pipeline\n",
    "from sklearn.preprocessing import scale\n",
    "from sklearn.preprocessing import StandardScaler\n",
    "from sklearn.preprocessing import RobustScaler\n",
    "from sklearn.decomposition import PCA"
   ]
  },
  {
   "cell_type": "code",
   "execution_count": 138,
   "metadata": {
    "colab": {
     "base_uri": "https://localhost:8080/"
    },
    "id": "hUtKBg04wkbR",
    "outputId": "03f69807-899b-4e29-80a2-a695b3ccea37"
   },
   "outputs": [
    {
     "data": {
      "text/plain": [
       "((1460, 81), (1459, 80))"
      ]
     },
     "execution_count": 138,
     "metadata": {},
     "output_type": "execute_result"
    }
   ],
   "source": [
    "train.shape, test.shape"
   ]
  },
  {
   "cell_type": "code",
   "execution_count": 139,
   "metadata": {
    "colab": {
     "base_uri": "https://localhost:8080/",
     "height": 246
    },
    "id": "sgSK6p7Gwogb",
    "outputId": "7cb5fa52-fa25-46af-a35f-020819e122c4"
   },
   "outputs": [
    {
     "data": {
      "text/html": [
       "<div>\n",
       "<style scoped>\n",
       "    .dataframe tbody tr th:only-of-type {\n",
       "        vertical-align: middle;\n",
       "    }\n",
       "\n",
       "    .dataframe tbody tr th {\n",
       "        vertical-align: top;\n",
       "    }\n",
       "\n",
       "    .dataframe thead th {\n",
       "        text-align: right;\n",
       "    }\n",
       "</style>\n",
       "<table border=\"1\" class=\"dataframe\">\n",
       "  <thead>\n",
       "    <tr style=\"text-align: right;\">\n",
       "      <th></th>\n",
       "      <th>Id</th>\n",
       "      <th>MSSubClass</th>\n",
       "      <th>MSZoning</th>\n",
       "      <th>LotFrontage</th>\n",
       "      <th>LotArea</th>\n",
       "      <th>Street</th>\n",
       "      <th>Alley</th>\n",
       "      <th>LotShape</th>\n",
       "      <th>LandContour</th>\n",
       "      <th>Utilities</th>\n",
       "      <th>...</th>\n",
       "      <th>PoolArea</th>\n",
       "      <th>PoolQC</th>\n",
       "      <th>Fence</th>\n",
       "      <th>MiscFeature</th>\n",
       "      <th>MiscVal</th>\n",
       "      <th>MoSold</th>\n",
       "      <th>YrSold</th>\n",
       "      <th>SaleType</th>\n",
       "      <th>SaleCondition</th>\n",
       "      <th>SalePrice</th>\n",
       "    </tr>\n",
       "  </thead>\n",
       "  <tbody>\n",
       "    <tr>\n",
       "      <th>0</th>\n",
       "      <td>1</td>\n",
       "      <td>60</td>\n",
       "      <td>RL</td>\n",
       "      <td>65.0</td>\n",
       "      <td>8450</td>\n",
       "      <td>Pave</td>\n",
       "      <td>NaN</td>\n",
       "      <td>Reg</td>\n",
       "      <td>Lvl</td>\n",
       "      <td>AllPub</td>\n",
       "      <td>...</td>\n",
       "      <td>0</td>\n",
       "      <td>NaN</td>\n",
       "      <td>NaN</td>\n",
       "      <td>NaN</td>\n",
       "      <td>0</td>\n",
       "      <td>2</td>\n",
       "      <td>2008</td>\n",
       "      <td>WD</td>\n",
       "      <td>Normal</td>\n",
       "      <td>208500</td>\n",
       "    </tr>\n",
       "    <tr>\n",
       "      <th>1</th>\n",
       "      <td>2</td>\n",
       "      <td>20</td>\n",
       "      <td>RL</td>\n",
       "      <td>80.0</td>\n",
       "      <td>9600</td>\n",
       "      <td>Pave</td>\n",
       "      <td>NaN</td>\n",
       "      <td>Reg</td>\n",
       "      <td>Lvl</td>\n",
       "      <td>AllPub</td>\n",
       "      <td>...</td>\n",
       "      <td>0</td>\n",
       "      <td>NaN</td>\n",
       "      <td>NaN</td>\n",
       "      <td>NaN</td>\n",
       "      <td>0</td>\n",
       "      <td>5</td>\n",
       "      <td>2007</td>\n",
       "      <td>WD</td>\n",
       "      <td>Normal</td>\n",
       "      <td>181500</td>\n",
       "    </tr>\n",
       "    <tr>\n",
       "      <th>2</th>\n",
       "      <td>3</td>\n",
       "      <td>60</td>\n",
       "      <td>RL</td>\n",
       "      <td>68.0</td>\n",
       "      <td>11250</td>\n",
       "      <td>Pave</td>\n",
       "      <td>NaN</td>\n",
       "      <td>IR1</td>\n",
       "      <td>Lvl</td>\n",
       "      <td>AllPub</td>\n",
       "      <td>...</td>\n",
       "      <td>0</td>\n",
       "      <td>NaN</td>\n",
       "      <td>NaN</td>\n",
       "      <td>NaN</td>\n",
       "      <td>0</td>\n",
       "      <td>9</td>\n",
       "      <td>2008</td>\n",
       "      <td>WD</td>\n",
       "      <td>Normal</td>\n",
       "      <td>223500</td>\n",
       "    </tr>\n",
       "    <tr>\n",
       "      <th>3</th>\n",
       "      <td>4</td>\n",
       "      <td>70</td>\n",
       "      <td>RL</td>\n",
       "      <td>60.0</td>\n",
       "      <td>9550</td>\n",
       "      <td>Pave</td>\n",
       "      <td>NaN</td>\n",
       "      <td>IR1</td>\n",
       "      <td>Lvl</td>\n",
       "      <td>AllPub</td>\n",
       "      <td>...</td>\n",
       "      <td>0</td>\n",
       "      <td>NaN</td>\n",
       "      <td>NaN</td>\n",
       "      <td>NaN</td>\n",
       "      <td>0</td>\n",
       "      <td>2</td>\n",
       "      <td>2006</td>\n",
       "      <td>WD</td>\n",
       "      <td>Abnorml</td>\n",
       "      <td>140000</td>\n",
       "    </tr>\n",
       "    <tr>\n",
       "      <th>4</th>\n",
       "      <td>5</td>\n",
       "      <td>60</td>\n",
       "      <td>RL</td>\n",
       "      <td>84.0</td>\n",
       "      <td>14260</td>\n",
       "      <td>Pave</td>\n",
       "      <td>NaN</td>\n",
       "      <td>IR1</td>\n",
       "      <td>Lvl</td>\n",
       "      <td>AllPub</td>\n",
       "      <td>...</td>\n",
       "      <td>0</td>\n",
       "      <td>NaN</td>\n",
       "      <td>NaN</td>\n",
       "      <td>NaN</td>\n",
       "      <td>0</td>\n",
       "      <td>12</td>\n",
       "      <td>2008</td>\n",
       "      <td>WD</td>\n",
       "      <td>Normal</td>\n",
       "      <td>250000</td>\n",
       "    </tr>\n",
       "  </tbody>\n",
       "</table>\n",
       "<p>5 rows × 81 columns</p>\n",
       "</div>"
      ],
      "text/plain": [
       "   Id  MSSubClass MSZoning  LotFrontage  LotArea Street Alley LotShape  \\\n",
       "0   1          60       RL         65.0     8450   Pave   NaN      Reg   \n",
       "1   2          20       RL         80.0     9600   Pave   NaN      Reg   \n",
       "2   3          60       RL         68.0    11250   Pave   NaN      IR1   \n",
       "3   4          70       RL         60.0     9550   Pave   NaN      IR1   \n",
       "4   5          60       RL         84.0    14260   Pave   NaN      IR1   \n",
       "\n",
       "  LandContour Utilities  ... PoolArea PoolQC Fence MiscFeature MiscVal MoSold  \\\n",
       "0         Lvl    AllPub  ...        0    NaN   NaN         NaN       0      2   \n",
       "1         Lvl    AllPub  ...        0    NaN   NaN         NaN       0      5   \n",
       "2         Lvl    AllPub  ...        0    NaN   NaN         NaN       0      9   \n",
       "3         Lvl    AllPub  ...        0    NaN   NaN         NaN       0      2   \n",
       "4         Lvl    AllPub  ...        0    NaN   NaN         NaN       0     12   \n",
       "\n",
       "  YrSold  SaleType  SaleCondition  SalePrice  \n",
       "0   2008        WD         Normal     208500  \n",
       "1   2007        WD         Normal     181500  \n",
       "2   2008        WD         Normal     223500  \n",
       "3   2006        WD        Abnorml     140000  \n",
       "4   2008        WD         Normal     250000  \n",
       "\n",
       "[5 rows x 81 columns]"
      ]
     },
     "execution_count": 139,
     "metadata": {},
     "output_type": "execute_result"
    }
   ],
   "source": [
    "train.head()"
   ]
  },
  {
   "cell_type": "code",
   "execution_count": 140,
   "metadata": {
    "colab": {
     "base_uri": "https://localhost:8080/",
     "height": 53
    },
    "id": "w1ST1-ngyXdW",
    "outputId": "004c80ee-1297-47cb-a70e-456a0706f800"
   },
   "outputs": [
    {
     "name": "stderr",
     "output_type": "stream",
     "text": [
      "/usr/local/lib/python3.6/dist-packages/seaborn/distributions.py:2551: FutureWarning: `distplot` is a deprecated function and will be removed in a future version. Please adapt your code to use either `displot` (a figure-level function with similar flexibility) or `histplot` (an axes-level function for histograms).\n",
      "  warnings.warn(msg, FutureWarning)\n"
     ]
    },
    {
     "data": {
      "image/png": "[encoded data removed]",
      "text/plain": [
       "<Figure size 576x504 with 1 Axes>"
      ]
     },
     "metadata": {},
     "output_type": "display_data"
    }
   ],
   "source": [
    "sns.set_style(\"white\")\n",
    "sns.set_color_codes(palette='deep')\n",
    "f, ax = plt.subplots(figsize=(8, 7))\n",
    "sns.distplot(train['SalePrice'], color=\"b\");\n",
    "ax.xaxis.grid(False)\n",
    "ax.set(ylabel=\"Frequency\")\n",
    "ax.set(xlabel=\"SalePrice\")\n",
    "ax.set(title=\"SalePrice distribution\")\n",
    "sns.despine(trim=True, left=True)\n",
    "plt.show()"
   ]
  },
  {
   "cell_type": "code",
   "execution_count": 141,
   "metadata": {
    "colab": {
     "base_uri": "https://localhost:8080/"
    },
    "id": "s-aDk_VNww0h",
    "outputId": "b93d0886-15bf-4d98-e120-5145d8dcab1f"
   },
   "outputs": [
    {
     "data": {
      "text/plain": [
       "((1460, 80), (1459, 79))"
      ]
     },
     "execution_count": 141,
     "metadata": {},
     "output_type": "execute_result"
    }
   ],
   "source": [
    "train_ID = train['Id']\n",
    "test_ID = test['Id']\n",
    "train.drop(['Id'], axis=1, inplace=True)\n",
    "test.drop(['Id'], axis=1, inplace=True)\n",
    "train.shape, test.shape"
   ]
  },
  {
   "cell_type": "code",
   "execution_count": 142,
   "metadata": {
    "colab": {
     "base_uri": "https://localhost:8080/",
     "height": 35
    },
    "id": "YUMQh4L1ySje",
    "outputId": "4af9b8aa-327b-4a6f-eb56-59ab07042d82"
   },
   "outputs": [],
   "source": [
    "# log transformación\n",
    "train[\"SalePrice\"] = np.log1p(train[\"SalePrice\"])"
   ]
  },
  {
   "cell_type": "code",
   "execution_count": 143,
   "metadata": {
    "colab": {
     "base_uri": "https://localhost:8080/",
     "height": 71
    },
    "id": "MfElSUxcyi91",
    "outputId": "f2f237e2-cf3f-4e1f-fbf5-4da2620a8f99"
   },
   "outputs": [
    {
     "name": "stderr",
     "output_type": "stream",
     "text": [
      "/usr/local/lib/python3.6/dist-packages/seaborn/distributions.py:2551: FutureWarning: `distplot` is a deprecated function and will be removed in a future version. Please adapt your code to use either `displot` (a figure-level function with similar flexibility) or `histplot` (an axes-level function for histograms).\n",
      "  warnings.warn(msg, FutureWarning)\n"
     ]
    },
    {
     "name": "stdout",
     "output_type": "stream",
     "text": [
      "\n",
      " mu = 12.02 and sigma = 0.40\n",
      "\n"
     ]
    },
    {
     "data": {
      "image/png": "[encoded data removed]",
      "text/plain": [
       "<Figure size 576x504 with 1 Axes>"
      ]
     },
     "metadata": {},
     "output_type": "display_data"
    }
   ],
   "source": [
    "sns.set_style(\"white\")\n",
    "sns.set_color_codes(palette='deep')\n",
    "f, ax = plt.subplots(figsize=(8, 7))\n",
    "#Check the new distribution \n",
    "sns.distplot(train['SalePrice'] , fit=norm, color=\"b\");\n",
    "\n",
    "# Get the fitted parameters used by the function\n",
    "(mu, sigma) = norm.fit(train['SalePrice'])\n",
    "print( '\\n mu = {:.2f} and sigma = {:.2f}\\n'.format(mu, sigma))\n",
    "\n",
    "#Now plot the distribution\n",
    "plt.legend(['Normal dist. ($\\mu=$ {:.2f} and $\\sigma=$ {:.2f} )'.format(mu, sigma)],\n",
    "            loc='best')\n",
    "ax.xaxis.grid(False)\n",
    "ax.set(ylabel=\"Frequency\")\n",
    "ax.set(xlabel=\"SalePrice\")\n",
    "ax.set(title=\"SalePrice distribution\")\n",
    "sns.despine(trim=True, left=True)\n",
    "\n",
    "plt.show()"
   ]
  },
  {
   "cell_type": "code",
   "execution_count": 144,
   "metadata": {
    "colab": {
     "base_uri": "https://localhost:8080/"
    },
    "id": "RKOOlD1kxJ2v",
    "outputId": "aa40f30c-e414-4e96-9605-802dfa55787f"
   },
   "outputs": [
    {
     "data": {
      "text/plain": [
       "(2919, 79)"
      ]
     },
     "execution_count": 144,
     "metadata": {},
     "output_type": "execute_result"
    }
   ],
   "source": [
    "# Split features and labels\n",
    "train_labels = train['SalePrice'].reset_index(drop=True)\n",
    "train_features = train.drop(['SalePrice'], axis=1)\n",
    "test_features = test\n",
    "\n",
    "# Combine train and test features in order to apply the feature transformation pipeline to the entire dataset\n",
    "all_features = pd.concat([train_features, test_features]).reset_index(drop=True)\n",
    "all_features.shape"
   ]
  },
  {
   "cell_type": "code",
   "execution_count": 145,
   "metadata": {
    "colab": {
     "base_uri": "https://localhost:8080/",
     "height": 647
    },
    "id": "tsewUdjs0ewz",
    "outputId": "0c41e21a-745a-4b61-86b0-a5bb1e9b2191"
   },
   "outputs": [
    {
     "data": {
      "text/html": [
       "<div>\n",
       "<style scoped>\n",
       "    .dataframe tbody tr th:only-of-type {\n",
       "        vertical-align: middle;\n",
       "    }\n",
       "\n",
       "    .dataframe tbody tr th {\n",
       "        vertical-align: top;\n",
       "    }\n",
       "\n",
       "    .dataframe thead th {\n",
       "        text-align: right;\n",
       "    }\n",
       "</style>\n",
       "<table border=\"1\" class=\"dataframe\">\n",
       "  <thead>\n",
       "    <tr style=\"text-align: right;\">\n",
       "      <th></th>\n",
       "      <th>Total</th>\n",
       "      <th>Percent</th>\n",
       "    </tr>\n",
       "  </thead>\n",
       "  <tbody>\n",
       "    <tr>\n",
       "      <th>PoolQC</th>\n",
       "      <td>2909</td>\n",
       "      <td>0.996574</td>\n",
       "    </tr>\n",
       "    <tr>\n",
       "      <th>MiscFeature</th>\n",
       "      <td>2814</td>\n",
       "      <td>0.964029</td>\n",
       "    </tr>\n",
       "    <tr>\n",
       "      <th>Alley</th>\n",
       "      <td>2721</td>\n",
       "      <td>0.932169</td>\n",
       "    </tr>\n",
       "    <tr>\n",
       "      <th>Fence</th>\n",
       "      <td>2348</td>\n",
       "      <td>0.804385</td>\n",
       "    </tr>\n",
       "    <tr>\n",
       "      <th>FireplaceQu</th>\n",
       "      <td>1420</td>\n",
       "      <td>0.486468</td>\n",
       "    </tr>\n",
       "    <tr>\n",
       "      <th>LotFrontage</th>\n",
       "      <td>486</td>\n",
       "      <td>0.166495</td>\n",
       "    </tr>\n",
       "    <tr>\n",
       "      <th>GarageCond</th>\n",
       "      <td>159</td>\n",
       "      <td>0.054471</td>\n",
       "    </tr>\n",
       "    <tr>\n",
       "      <th>GarageQual</th>\n",
       "      <td>159</td>\n",
       "      <td>0.054471</td>\n",
       "    </tr>\n",
       "    <tr>\n",
       "      <th>GarageYrBlt</th>\n",
       "      <td>159</td>\n",
       "      <td>0.054471</td>\n",
       "    </tr>\n",
       "    <tr>\n",
       "      <th>GarageFinish</th>\n",
       "      <td>159</td>\n",
       "      <td>0.054471</td>\n",
       "    </tr>\n",
       "    <tr>\n",
       "      <th>GarageType</th>\n",
       "      <td>157</td>\n",
       "      <td>0.053786</td>\n",
       "    </tr>\n",
       "    <tr>\n",
       "      <th>BsmtCond</th>\n",
       "      <td>82</td>\n",
       "      <td>0.028092</td>\n",
       "    </tr>\n",
       "    <tr>\n",
       "      <th>BsmtExposure</th>\n",
       "      <td>82</td>\n",
       "      <td>0.028092</td>\n",
       "    </tr>\n",
       "    <tr>\n",
       "      <th>BsmtQual</th>\n",
       "      <td>81</td>\n",
       "      <td>0.027749</td>\n",
       "    </tr>\n",
       "    <tr>\n",
       "      <th>BsmtFinType2</th>\n",
       "      <td>80</td>\n",
       "      <td>0.027407</td>\n",
       "    </tr>\n",
       "    <tr>\n",
       "      <th>BsmtFinType1</th>\n",
       "      <td>79</td>\n",
       "      <td>0.027064</td>\n",
       "    </tr>\n",
       "    <tr>\n",
       "      <th>MasVnrType</th>\n",
       "      <td>24</td>\n",
       "      <td>0.008222</td>\n",
       "    </tr>\n",
       "    <tr>\n",
       "      <th>MasVnrArea</th>\n",
       "      <td>23</td>\n",
       "      <td>0.007879</td>\n",
       "    </tr>\n",
       "    <tr>\n",
       "      <th>MSZoning</th>\n",
       "      <td>4</td>\n",
       "      <td>0.001370</td>\n",
       "    </tr>\n",
       "    <tr>\n",
       "      <th>BsmtHalfBath</th>\n",
       "      <td>2</td>\n",
       "      <td>0.000685</td>\n",
       "    </tr>\n",
       "  </tbody>\n",
       "</table>\n",
       "</div>"
      ],
      "text/plain": [
       "              Total   Percent\n",
       "PoolQC         2909  0.996574\n",
       "MiscFeature    2814  0.964029\n",
       "Alley          2721  0.932169\n",
       "Fence          2348  0.804385\n",
       "FireplaceQu    1420  0.486468\n",
       "LotFrontage     486  0.166495\n",
       "GarageCond      159  0.054471\n",
       "GarageQual      159  0.054471\n",
       "GarageYrBlt     159  0.054471\n",
       "GarageFinish    159  0.054471\n",
       "GarageType      157  0.053786\n",
       "BsmtCond         82  0.028092\n",
       "BsmtExposure     82  0.028092\n",
       "BsmtQual         81  0.027749\n",
       "BsmtFinType2     80  0.027407\n",
       "BsmtFinType1     79  0.027064\n",
       "MasVnrType       24  0.008222\n",
       "MasVnrArea       23  0.007879\n",
       "MSZoning          4  0.001370\n",
       "BsmtHalfBath      2  0.000685"
      ]
     },
     "execution_count": 145,
     "metadata": {},
     "output_type": "execute_result"
    }
   ],
   "source": [
    "#missing data\n",
    "total = all_features.isnull().sum().sort_values(ascending=False)\n",
    "percent = (all_features.isnull().sum()/all_features.isnull().count()).sort_values(ascending=False)\n",
    "missing_data = pd.concat([total, percent], axis=1, keys=['Total', 'Percent'])\n",
    "missing_data.head(20)"
   ]
  },
  {
   "cell_type": "code",
   "execution_count": 146,
   "metadata": {
    "colab": {
     "base_uri": "https://localhost:8080/"
    },
    "id": "iU-XsMyZ1qO0",
    "outputId": "e3833349-73b3-4998-d0ca-a787854bed15"
   },
   "outputs": [
    {
     "data": {
      "text/plain": [
       "0        60\n",
       "1        20\n",
       "2        60\n",
       "3        70\n",
       "4        60\n",
       "       ... \n",
       "2914    160\n",
       "2915    160\n",
       "2916     20\n",
       "2917     85\n",
       "2918     60\n",
       "Name: MSSubClass, Length: 2919, dtype: int64"
      ]
     },
     "execution_count": 146,
     "metadata": {},
     "output_type": "execute_result"
    }
   ],
   "source": [
    "all_features['MSSubClass']"
   ]
  },
  {
   "cell_type": "code",
   "execution_count": 147,
   "metadata": {
    "colab": {
     "base_uri": "https://localhost:8080/"
    },
    "id": "yOQqYlso1Q7s",
    "outputId": "42c7d61a-bc34-4786-ef52-89f472d55417"
   },
   "outputs": [
    {
     "data": {
      "text/plain": [
       "0       5\n",
       "1       8\n",
       "2       5\n",
       "3       5\n",
       "4       5\n",
       "       ..\n",
       "2914    7\n",
       "2915    5\n",
       "2916    7\n",
       "2917    5\n",
       "2918    5\n",
       "Name: OverallCond, Length: 2919, dtype: int64"
      ]
     },
     "execution_count": 147,
     "metadata": {},
     "output_type": "execute_result"
    }
   ],
   "source": [
    "all_features['OverallCond']"
   ]
  },
  {
   "cell_type": "code",
   "execution_count": 148,
   "metadata": {
    "colab": {
     "base_uri": "https://localhost:8080/"
    },
    "id": "sxZPT295-GsA",
    "outputId": "f8a7d837-dd22-447c-87c3-13586d570fd0"
   },
   "outputs": [
    {
     "data": {
      "text/plain": [
       "AllPub    2916\n",
       "NoSeWa       1\n",
       "Name: Utilities, dtype: int64"
      ]
     },
     "execution_count": 148,
     "metadata": {},
     "output_type": "execute_result"
    }
   ],
   "source": [
    "all_features['Utilities'].value_counts()"
   ]
  },
  {
   "cell_type": "code",
   "execution_count": 149,
   "metadata": {
    "id": "xnD90fOH4cLC"
   },
   "outputs": [],
   "source": [
    "# Se pasan a String porque son variables categóricas\n",
    "all_features['MSSubClass'] = all_features['MSSubClass'].apply(str)\n",
    "all_features['YrSold'] = all_features['YrSold'].astype(str)\n",
    "all_features['MoSold'] = all_features['MoSold'].astype(str)"
   ]
  },
  {
   "cell_type": "code",
   "execution_count": 150,
   "metadata": {
    "id": "FzuoYmwdwFgt"
   },
   "outputs": [],
   "source": [
    "## Algunss variables deben tener una categoría 'None' de acuerdo al contexto, por ejemplo en la característica PoolQC,\n",
    "## Hay valores en blanco que significa que no hay piscina en la casa.\n",
    "missing_categoric = [\"Alley\", \n",
    "                   \"PoolQC\", \n",
    "                   \"MiscFeature\",\n",
    "                   \"Fence\",\n",
    "                   \"FireplaceQu\",\n",
    "                   \"GarageType\",\n",
    "                   \"GarageFinish\",\n",
    "                   \"GarageQual\",\n",
    "                   \"GarageCond\",\n",
    "                   'BsmtQual',\n",
    "                   'BsmtCond',\n",
    "                   'BsmtExposure',\n",
    "                   'BsmtFinType1',\n",
    "                   'BsmtFinType2',\n",
    "                   'MasVnrType']\n",
    "\n",
    "for i in missing_categoric:\n",
    "    all_features[i] = all_features[i].fillna('None')"
   ]
  },
  {
   "cell_type": "code",
   "execution_count": 151,
   "metadata": {
    "id": "9fb5bUNByLzF"
   },
   "outputs": [],
   "source": [
    "# En estas variables, los valores nulos se deben reemplazar por cero, de acuerdo al contexto\n",
    "## Por ejemplo con GarageArea, significa que no hay garage, entonces no aplica y no se podría poner el promedio, por ejemplo.\n",
    "missing_numeric = ['BsmtFinSF1',\n",
    "                    'BsmtFinSF2',\n",
    "                    'BsmtUnfSF',\n",
    "                    'TotalBsmtSF',\n",
    "                    'BsmtFullBath', \n",
    "                    'BsmtHalfBath', \n",
    "                    'GarageYrBlt',\n",
    "                    'GarageArea',\n",
    "                    'GarageCars',\n",
    "                    'MasVnrArea']\n",
    "\n",
    "for i in missing_numeric:\n",
    "    all_features[i] = all_features[i].fillna(0)\n",
    "    \n",
    "# Según el contexto de la variable, se opta por llenar sus valores faltantes con la mediana de los de su\n",
    "## mismo vecindario. \n",
    "all_features['LotFrontage'] = all_features.groupby('Neighborhood')['LotFrontage'].transform( lambda x: x.fillna(x.median()))"
   ]
  },
  {
   "cell_type": "code",
   "execution_count": 152,
   "metadata": {
    "id": "zOm8TIw70-nP"
   },
   "outputs": [],
   "source": [
    "## De acuerdo al contexto no se pueden llenar los valores faltantes con ceros o 'None'\n",
    "# Por ser una variable categórica, tampoco por la media ni la mediana, se oprta por llenar la variable con la moda.\n",
    "all_features['MSZoning'] = all_features.groupby('MSSubClass')['MSZoning'].transform(lambda x: x.fillna(x.mode()[0]))"
   ]
  },
  {
   "cell_type": "code",
   "execution_count": 153,
   "metadata": {
    "id": "Ulst5wqF1jrY"
   },
   "outputs": [],
   "source": [
    "# Se llena según explicación de la descripción del dataset\n",
    "all_features['Functional'] = all_features['Functional'].fillna('Typ') "
   ]
  },
  {
   "cell_type": "code",
   "execution_count": 154,
   "metadata": {
    "colab": {
     "base_uri": "https://localhost:8080/"
    },
    "id": "YiExPKWM2A68",
    "outputId": "25e5bf0e-36d7-448b-adda-d7bc16714939"
   },
   "outputs": [
    {
     "data": {
      "text/plain": [
       "AllPub    2916\n",
       "NoSeWa       1\n",
       "Name: Utilities, dtype: int64"
      ]
     },
     "execution_count": 154,
     "metadata": {},
     "output_type": "execute_result"
    }
   ],
   "source": [
    "all_features['Utilities'].value_counts()"
   ]
  },
  {
   "cell_type": "code",
   "execution_count": 155,
   "metadata": {
    "colab": {
     "base_uri": "https://localhost:8080/"
    },
    "id": "8o_9u4sF2LbN",
    "outputId": "bfb0d2f7-8761-44c1-8187-abcefe11fd13"
   },
   "outputs": [
    {
     "data": {
      "text/plain": [
       "TA    1492\n",
       "Gd    1151\n",
       "Ex     205\n",
       "Fa      70\n",
       "Name: KitchenQual, dtype: int64"
      ]
     },
     "execution_count": 155,
     "metadata": {},
     "output_type": "execute_result"
    }
   ],
   "source": [
    "all_features['KitchenQual'].value_counts()"
   ]
  },
  {
   "cell_type": "code",
   "execution_count": 156,
   "metadata": {
    "colab": {
     "base_uri": "https://localhost:8080/"
    },
    "id": "FhYAppLw2RKz",
    "outputId": "e6f679c2-ab7e-4d6c-8487-f36ccef831e5"
   },
   "outputs": [
    {
     "data": {
      "text/plain": [
       "SBrkr    2671\n",
       "FuseA     188\n",
       "FuseF      50\n",
       "FuseP       8\n",
       "Mix         1\n",
       "Name: Electrical, dtype: int64"
      ]
     },
     "execution_count": 156,
     "metadata": {},
     "output_type": "execute_result"
    }
   ],
   "source": [
    "all_features['Electrical'].value_counts()"
   ]
  },
  {
   "cell_type": "code",
   "execution_count": 157,
   "metadata": {
    "id": "gVSZ59Kz1h7U"
   },
   "outputs": [],
   "source": [
    "## Se llenan con la moda\n",
    "all_features['Utilities'] = all_features['Utilities'].fillna('AllPub') \n",
    "all_features['KitchenQual'] = all_features['KitchenQual'].fillna(\"TA\") \n",
    "all_features['Electrical'] = all_features['Electrical'].fillna(\"SBrkr\")"
   ]
  },
  {
   "cell_type": "code",
   "execution_count": 158,
   "metadata": {
    "id": "nL2RqiPS1-ws"
   },
   "outputs": [],
   "source": [
    "## Se llenan con la moda\n",
    "all_features['Exterior1st'] = all_features['Exterior1st'].fillna(all_features['Exterior1st'].mode()[0]) \n",
    "all_features['Exterior2nd'] = all_features['Exterior2nd'].fillna(all_features['Exterior2nd'].mode()[0])\n",
    "all_features['SaleType'] = all_features['SaleType'].fillna(all_features['SaleType'].mode()[0])"
   ]
  },
  {
   "cell_type": "code",
   "execution_count": 159,
   "metadata": {
    "colab": {
     "base_uri": "https://localhost:8080/",
     "height": 647
    },
    "id": "d8pwDMcu2uKg",
    "outputId": "b5456321-053d-4dc2-f0f5-44fcb31ea02f"
   },
   "outputs": [
    {
     "data": {
      "text/html": [
       "<div>\n",
       "<style scoped>\n",
       "    .dataframe tbody tr th:only-of-type {\n",
       "        vertical-align: middle;\n",
       "    }\n",
       "\n",
       "    .dataframe tbody tr th {\n",
       "        vertical-align: top;\n",
       "    }\n",
       "\n",
       "    .dataframe thead th {\n",
       "        text-align: right;\n",
       "    }\n",
       "</style>\n",
       "<table border=\"1\" class=\"dataframe\">\n",
       "  <thead>\n",
       "    <tr style=\"text-align: right;\">\n",
       "      <th></th>\n",
       "      <th>Total</th>\n",
       "      <th>Percent</th>\n",
       "    </tr>\n",
       "  </thead>\n",
       "  <tbody>\n",
       "    <tr>\n",
       "      <th>SaleCondition</th>\n",
       "      <td>0</td>\n",
       "      <td>0.0</td>\n",
       "    </tr>\n",
       "    <tr>\n",
       "      <th>Foundation</th>\n",
       "      <td>0</td>\n",
       "      <td>0.0</td>\n",
       "    </tr>\n",
       "    <tr>\n",
       "      <th>RoofMatl</th>\n",
       "      <td>0</td>\n",
       "      <td>0.0</td>\n",
       "    </tr>\n",
       "    <tr>\n",
       "      <th>Exterior1st</th>\n",
       "      <td>0</td>\n",
       "      <td>0.0</td>\n",
       "    </tr>\n",
       "    <tr>\n",
       "      <th>Exterior2nd</th>\n",
       "      <td>0</td>\n",
       "      <td>0.0</td>\n",
       "    </tr>\n",
       "    <tr>\n",
       "      <th>MasVnrType</th>\n",
       "      <td>0</td>\n",
       "      <td>0.0</td>\n",
       "    </tr>\n",
       "    <tr>\n",
       "      <th>MasVnrArea</th>\n",
       "      <td>0</td>\n",
       "      <td>0.0</td>\n",
       "    </tr>\n",
       "    <tr>\n",
       "      <th>ExterQual</th>\n",
       "      <td>0</td>\n",
       "      <td>0.0</td>\n",
       "    </tr>\n",
       "    <tr>\n",
       "      <th>ExterCond</th>\n",
       "      <td>0</td>\n",
       "      <td>0.0</td>\n",
       "    </tr>\n",
       "    <tr>\n",
       "      <th>BsmtQual</th>\n",
       "      <td>0</td>\n",
       "      <td>0.0</td>\n",
       "    </tr>\n",
       "    <tr>\n",
       "      <th>YearRemodAdd</th>\n",
       "      <td>0</td>\n",
       "      <td>0.0</td>\n",
       "    </tr>\n",
       "    <tr>\n",
       "      <th>BsmtCond</th>\n",
       "      <td>0</td>\n",
       "      <td>0.0</td>\n",
       "    </tr>\n",
       "    <tr>\n",
       "      <th>BsmtExposure</th>\n",
       "      <td>0</td>\n",
       "      <td>0.0</td>\n",
       "    </tr>\n",
       "    <tr>\n",
       "      <th>BsmtFinType1</th>\n",
       "      <td>0</td>\n",
       "      <td>0.0</td>\n",
       "    </tr>\n",
       "    <tr>\n",
       "      <th>BsmtFinSF1</th>\n",
       "      <td>0</td>\n",
       "      <td>0.0</td>\n",
       "    </tr>\n",
       "    <tr>\n",
       "      <th>BsmtFinType2</th>\n",
       "      <td>0</td>\n",
       "      <td>0.0</td>\n",
       "    </tr>\n",
       "    <tr>\n",
       "      <th>BsmtFinSF2</th>\n",
       "      <td>0</td>\n",
       "      <td>0.0</td>\n",
       "    </tr>\n",
       "    <tr>\n",
       "      <th>BsmtUnfSF</th>\n",
       "      <td>0</td>\n",
       "      <td>0.0</td>\n",
       "    </tr>\n",
       "    <tr>\n",
       "      <th>RoofStyle</th>\n",
       "      <td>0</td>\n",
       "      <td>0.0</td>\n",
       "    </tr>\n",
       "    <tr>\n",
       "      <th>YearBuilt</th>\n",
       "      <td>0</td>\n",
       "      <td>0.0</td>\n",
       "    </tr>\n",
       "  </tbody>\n",
       "</table>\n",
       "</div>"
      ],
      "text/plain": [
       "               Total  Percent\n",
       "SaleCondition      0      0.0\n",
       "Foundation         0      0.0\n",
       "RoofMatl           0      0.0\n",
       "Exterior1st        0      0.0\n",
       "Exterior2nd        0      0.0\n",
       "MasVnrType         0      0.0\n",
       "MasVnrArea         0      0.0\n",
       "ExterQual          0      0.0\n",
       "ExterCond          0      0.0\n",
       "BsmtQual           0      0.0\n",
       "YearRemodAdd       0      0.0\n",
       "BsmtCond           0      0.0\n",
       "BsmtExposure       0      0.0\n",
       "BsmtFinType1       0      0.0\n",
       "BsmtFinSF1         0      0.0\n",
       "BsmtFinType2       0      0.0\n",
       "BsmtFinSF2         0      0.0\n",
       "BsmtUnfSF          0      0.0\n",
       "RoofStyle          0      0.0\n",
       "YearBuilt          0      0.0"
      ]
     },
     "execution_count": 159,
     "metadata": {},
     "output_type": "execute_result"
    }
   ],
   "source": [
    "## Se comprueba que no hayan datos faltantes\n",
    "total = all_features.isnull().sum().sort_values(ascending=False)\n",
    "percent = (all_features.isnull().sum()/all_features.isnull().count()).sort_values(ascending=False)\n",
    "missing_data = pd.concat([total, percent], axis=1, keys=['Total', 'Percent'])\n",
    "missing_data.head(20)"
   ]
  },
  {
   "cell_type": "code",
   "execution_count": 160,
   "metadata": {
    "colab": {
     "base_uri": "https://localhost:8080/"
    },
    "id": "uU_SKZLb34Om",
    "outputId": "3c38ab97-bc2d-473d-e875-7163fa5cb568"
   },
   "outputs": [
    {
     "data": {
      "text/plain": [
       "AllPub    2918\n",
       "NoSeWa       1\n",
       "Name: Utilities, dtype: int64"
      ]
     },
     "execution_count": 160,
     "metadata": {},
     "output_type": "execute_result"
    }
   ],
   "source": [
    "all_features['Utilities'].value_counts()"
   ]
  },
  {
   "cell_type": "code",
   "execution_count": 161,
   "metadata": {},
   "outputs": [
    {
     "data": {
      "text/plain": [
       "Pave    2907\n",
       "Grvl      12\n",
       "Name: Street, dtype: int64"
      ]
     },
     "execution_count": 161,
     "metadata": {},
     "output_type": "execute_result"
    }
   ],
   "source": [
    "all_features['Street'].value_counts()"
   ]
  },
  {
   "cell_type": "code",
   "execution_count": 162,
   "metadata": {},
   "outputs": [
    {
     "data": {
      "text/plain": [
       "None    2909\n",
       "Ex         4\n",
       "Gd         4\n",
       "Fa         2\n",
       "Name: PoolQC, dtype: int64"
      ]
     },
     "execution_count": 162,
     "metadata": {},
     "output_type": "execute_result"
    }
   ],
   "source": [
    "all_features['PoolQC'].value_counts()"
   ]
  },
  {
   "cell_type": "code",
   "execution_count": 163,
   "metadata": {
    "id": "WAsOVZ4S4TP1"
   },
   "outputs": [],
   "source": [
    "all_features = all_features.drop(['Utilities', 'Street', 'PoolQC',], axis=1)"
   ]
  },
  {
   "cell_type": "code",
   "execution_count": 164,
   "metadata": {},
   "outputs": [],
   "source": [
    "numeric_dtypes = ['int16', 'int32', 'int64', 'float16', 'float32', 'float64']\n",
    "numeric = []\n",
    "for i in all_features.columns:\n",
    "    if all_features[i].dtype in numeric_dtypes:\n",
    "        numeric.append(i)"
   ]
  },
  {
   "cell_type": "code",
   "execution_count": 165,
   "metadata": {},
   "outputs": [
    {
     "name": "stdout",
     "output_type": "stream",
     "text": [
      "There are 25 numerical features with Skew > 0.5 :\n"
     ]
    },
    {
     "data": {
      "text/plain": [
       "MiscVal          21.947195\n",
       "PoolArea         16.898328\n",
       "LotArea          12.822431\n",
       "LowQualFinSF     12.088761\n",
       "3SsnPorch        11.376065\n",
       "KitchenAbvGr      4.302254\n",
       "BsmtFinSF2        4.146143\n",
       "EnclosedPorch     4.003891\n",
       "ScreenPorch       3.946694\n",
       "BsmtHalfBath      3.931594\n",
       "dtype: float64"
      ]
     },
     "execution_count": 165,
     "metadata": {},
     "output_type": "execute_result"
    }
   ],
   "source": [
    "skew_features = all_features[numeric].apply(lambda x: skew(x)).sort_values(ascending=False)\n",
    "\n",
    "high_skew = skew_features[skew_features > 0.5]\n",
    "skew_index = high_skew.index\n",
    "\n",
    "print(\"There are {} numerical features with Skew > 0.5 :\".format(high_skew.shape[0]))\n",
    "skewness = pd.DataFrame({'Skew' :high_skew})\n",
    "skew_features.head(10)"
   ]
  },
  {
   "cell_type": "code",
   "execution_count": 172,
   "metadata": {
    "colab": {
     "base_uri": "https://localhost:8080/"
    },
    "id": "sinpCehT7LMq",
    "outputId": "be4b2480-b8f5-463c-bbe7-a7b66ff0c346"
   },
   "outputs": [
    {
     "data": {
      "text/plain": [
       "0      2906\n",
       "561       1\n",
       "555       1\n",
       "519       1\n",
       "800       1\n",
       "738       1\n",
       "648       1\n",
       "576       1\n",
       "512       1\n",
       "480       1\n",
       "444       1\n",
       "368       1\n",
       "228       1\n",
       "144       1\n",
       "Name: PoolArea, dtype: int64"
      ]
     },
     "execution_count": 172,
     "metadata": {},
     "output_type": "execute_result"
    }
   ],
   "source": [
    "all_features['PoolArea'].value_counts()"
   ]
  },
  {
   "cell_type": "code",
   "execution_count": 173,
   "metadata": {
    "id": "CqVfF5Ll7oT0"
   },
   "outputs": [],
   "source": [
    "all_features['TotalSF'] = (all_features['TotalBsmtSF'] \n",
    "                       + all_features['1stFlrSF'] \n",
    "                       + all_features['2ndFlrSF'])\n",
    "\n",
    "all_features['YrBltAndRemod'] = all_features['YearBuilt'] + all_features['YearRemodAdd']\n",
    "\n",
    "all_features['Total_sqr_footage'] = (all_features['BsmtFinSF1'] \n",
    "                                 + all_features['BsmtFinSF2'] \n",
    "                                 + all_features['1stFlrSF'] \n",
    "                                 + all_features['2ndFlrSF']\n",
    "                                )\n",
    "                                 \n",
    "\n",
    "all_features['Total_Bathrooms'] = (all_features['FullBath'] \n",
    "                               + (0.5 * all_features['HalfBath']) \n",
    "                               + all_features['BsmtFullBath'] \n",
    "                               + (0.5 * all_features['BsmtHalfBath'])\n",
    "                              )\n",
    "                               \n",
    "\n",
    "all_features['Total_porch_sf'] = (all_features['OpenPorchSF'] \n",
    "                              + all_features['3SsnPorch'] \n",
    "                              + all_features['EnclosedPorch'] \n",
    "                              + all_features['ScreenPorch'] \n",
    "                              + all_features['WoodDeckSF'])"
   ]
  },
  {
   "cell_type": "code",
   "execution_count": 174,
   "metadata": {
    "id": "Ps4tXQlF79ss"
   },
   "outputs": [],
   "source": [
    "## Se crean nuevas variables, por ejemplo, tiene sentido una variable de si hay piscina o no, \n",
    "# Que tendría el valor de 1, si poolArea tiene un valor mayor a 0.\n",
    "all_features['haspool'] = all_features['PoolArea'].apply(lambda x: 1 if x > 0 else 0)\n",
    "all_features['has2ndfloor'] = all_features['2ndFlrSF'].apply(lambda x: 1 if x > 0 else 0)\n",
    "all_features['hasgarage'] = all_features['GarageArea'].apply(lambda x: 1 if x > 0 else 0)\n",
    "all_features['hasbsmt'] = all_features['TotalBsmtSF'].apply(lambda x: 1 if x > 0 else 0)\n",
    "all_features['hasfireplace'] = all_features['Fireplaces'].apply(lambda x: 1 if x > 0 else 0)"
   ]
  },
  {
   "cell_type": "code",
   "execution_count": 175,
   "metadata": {
    "colab": {
     "base_uri": "https://localhost:8080/"
    },
    "id": "KjWXbl658f5i",
    "outputId": "62847f81-09c6-44aa-ed71-676de4deb2db"
   },
   "outputs": [
    {
     "data": {
      "text/plain": [
       "(2919, 334)"
      ]
     },
     "execution_count": 175,
     "metadata": {},
     "output_type": "execute_result"
    }
   ],
   "source": [
    "all_features = pd.get_dummies(all_features).reset_index(drop=True)\n",
    "all_features.shape"
   ]
  },
  {
   "cell_type": "code",
   "execution_count": 176,
   "metadata": {
    "colab": {
     "base_uri": "https://localhost:8080/",
     "height": 246
    },
    "id": "NDprdOEJ8lTa",
    "outputId": "96b444a3-27c6-4433-cf27-8a9b6390be26"
   },
   "outputs": [
    {
     "data": {
      "text/html": [
       "<div>\n",
       "<style scoped>\n",
       "    .dataframe tbody tr th:only-of-type {\n",
       "        vertical-align: middle;\n",
       "    }\n",
       "\n",
       "    .dataframe tbody tr th {\n",
       "        vertical-align: top;\n",
       "    }\n",
       "\n",
       "    .dataframe thead th {\n",
       "        text-align: right;\n",
       "    }\n",
       "</style>\n",
       "<table border=\"1\" class=\"dataframe\">\n",
       "  <thead>\n",
       "    <tr style=\"text-align: right;\">\n",
       "      <th></th>\n",
       "      <th>LotFrontage</th>\n",
       "      <th>LotArea</th>\n",
       "      <th>OverallQual</th>\n",
       "      <th>OverallCond</th>\n",
       "      <th>YearBuilt</th>\n",
       "      <th>YearRemodAdd</th>\n",
       "      <th>MasVnrArea</th>\n",
       "      <th>BsmtFinSF1</th>\n",
       "      <th>BsmtFinSF2</th>\n",
       "      <th>BsmtUnfSF</th>\n",
       "      <th>...</th>\n",
       "      <th>SaleType_ConLw</th>\n",
       "      <th>SaleType_New</th>\n",
       "      <th>SaleType_Oth</th>\n",
       "      <th>SaleType_WD</th>\n",
       "      <th>SaleCondition_Abnorml</th>\n",
       "      <th>SaleCondition_AdjLand</th>\n",
       "      <th>SaleCondition_Alloca</th>\n",
       "      <th>SaleCondition_Family</th>\n",
       "      <th>SaleCondition_Normal</th>\n",
       "      <th>SaleCondition_Partial</th>\n",
       "    </tr>\n",
       "  </thead>\n",
       "  <tbody>\n",
       "    <tr>\n",
       "      <th>0</th>\n",
       "      <td>65.0</td>\n",
       "      <td>8450</td>\n",
       "      <td>7</td>\n",
       "      <td>5</td>\n",
       "      <td>2003</td>\n",
       "      <td>2003</td>\n",
       "      <td>196.0</td>\n",
       "      <td>706.0</td>\n",
       "      <td>0.0</td>\n",
       "      <td>150.0</td>\n",
       "      <td>...</td>\n",
       "      <td>0</td>\n",
       "      <td>0</td>\n",
       "      <td>0</td>\n",
       "      <td>1</td>\n",
       "      <td>0</td>\n",
       "      <td>0</td>\n",
       "      <td>0</td>\n",
       "      <td>0</td>\n",
       "      <td>1</td>\n",
       "      <td>0</td>\n",
       "    </tr>\n",
       "    <tr>\n",
       "      <th>1</th>\n",
       "      <td>80.0</td>\n",
       "      <td>9600</td>\n",
       "      <td>6</td>\n",
       "      <td>8</td>\n",
       "      <td>1976</td>\n",
       "      <td>1976</td>\n",
       "      <td>0.0</td>\n",
       "      <td>978.0</td>\n",
       "      <td>0.0</td>\n",
       "      <td>284.0</td>\n",
       "      <td>...</td>\n",
       "      <td>0</td>\n",
       "      <td>0</td>\n",
       "      <td>0</td>\n",
       "      <td>1</td>\n",
       "      <td>0</td>\n",
       "      <td>0</td>\n",
       "      <td>0</td>\n",
       "      <td>0</td>\n",
       "      <td>1</td>\n",
       "      <td>0</td>\n",
       "    </tr>\n",
       "    <tr>\n",
       "      <th>2</th>\n",
       "      <td>68.0</td>\n",
       "      <td>11250</td>\n",
       "      <td>7</td>\n",
       "      <td>5</td>\n",
       "      <td>2001</td>\n",
       "      <td>2002</td>\n",
       "      <td>162.0</td>\n",
       "      <td>486.0</td>\n",
       "      <td>0.0</td>\n",
       "      <td>434.0</td>\n",
       "      <td>...</td>\n",
       "      <td>0</td>\n",
       "      <td>0</td>\n",
       "      <td>0</td>\n",
       "      <td>1</td>\n",
       "      <td>0</td>\n",
       "      <td>0</td>\n",
       "      <td>0</td>\n",
       "      <td>0</td>\n",
       "      <td>1</td>\n",
       "      <td>0</td>\n",
       "    </tr>\n",
       "    <tr>\n",
       "      <th>3</th>\n",
       "      <td>60.0</td>\n",
       "      <td>9550</td>\n",
       "      <td>7</td>\n",
       "      <td>5</td>\n",
       "      <td>1915</td>\n",
       "      <td>1970</td>\n",
       "      <td>0.0</td>\n",
       "      <td>216.0</td>\n",
       "      <td>0.0</td>\n",
       "      <td>540.0</td>\n",
       "      <td>...</td>\n",
       "      <td>0</td>\n",
       "      <td>0</td>\n",
       "      <td>0</td>\n",
       "      <td>1</td>\n",
       "      <td>1</td>\n",
       "      <td>0</td>\n",
       "      <td>0</td>\n",
       "      <td>0</td>\n",
       "      <td>0</td>\n",
       "      <td>0</td>\n",
       "    </tr>\n",
       "    <tr>\n",
       "      <th>4</th>\n",
       "      <td>84.0</td>\n",
       "      <td>14260</td>\n",
       "      <td>8</td>\n",
       "      <td>5</td>\n",
       "      <td>2000</td>\n",
       "      <td>2000</td>\n",
       "      <td>350.0</td>\n",
       "      <td>655.0</td>\n",
       "      <td>0.0</td>\n",
       "      <td>490.0</td>\n",
       "      <td>...</td>\n",
       "      <td>0</td>\n",
       "      <td>0</td>\n",
       "      <td>0</td>\n",
       "      <td>1</td>\n",
       "      <td>0</td>\n",
       "      <td>0</td>\n",
       "      <td>0</td>\n",
       "      <td>0</td>\n",
       "      <td>1</td>\n",
       "      <td>0</td>\n",
       "    </tr>\n",
       "  </tbody>\n",
       "</table>\n",
       "<p>5 rows × 334 columns</p>\n",
       "</div>"
      ],
      "text/plain": [
       "   LotFrontage  LotArea  OverallQual  OverallCond  YearBuilt  YearRemodAdd  \\\n",
       "0         65.0     8450            7            5       2003          2003   \n",
       "1         80.0     9600            6            8       1976          1976   \n",
       "2         68.0    11250            7            5       2001          2002   \n",
       "3         60.0     9550            7            5       1915          1970   \n",
       "4         84.0    14260            8            5       2000          2000   \n",
       "\n",
       "   MasVnrArea  BsmtFinSF1  BsmtFinSF2  BsmtUnfSF  ...  SaleType_ConLw  \\\n",
       "0       196.0       706.0         0.0      150.0  ...               0   \n",
       "1         0.0       978.0         0.0      284.0  ...               0   \n",
       "2       162.0       486.0         0.0      434.0  ...               0   \n",
       "3         0.0       216.0         0.0      540.0  ...               0   \n",
       "4       350.0       655.0         0.0      490.0  ...               0   \n",
       "\n",
       "   SaleType_New  SaleType_Oth  SaleType_WD  SaleCondition_Abnorml  \\\n",
       "0             0             0            1                      0   \n",
       "1             0             0            1                      0   \n",
       "2             0             0            1                      0   \n",
       "3             0             0            1                      1   \n",
       "4             0             0            1                      0   \n",
       "\n",
       "   SaleCondition_AdjLand  SaleCondition_Alloca  SaleCondition_Family  \\\n",
       "0                      0                     0                     0   \n",
       "1                      0                     0                     0   \n",
       "2                      0                     0                     0   \n",
       "3                      0                     0                     0   \n",
       "4                      0                     0                     0   \n",
       "\n",
       "   SaleCondition_Normal  SaleCondition_Partial  \n",
       "0                     1                      0  \n",
       "1                     1                      0  \n",
       "2                     1                      0  \n",
       "3                     0                      0  \n",
       "4                     1                      0  \n",
       "\n",
       "[5 rows x 334 columns]"
      ]
     },
     "execution_count": 176,
     "metadata": {},
     "output_type": "execute_result"
    }
   ],
   "source": [
    "all_features.head()"
   ]
  },
  {
   "cell_type": "code",
   "execution_count": 177,
   "metadata": {
    "colab": {
     "base_uri": "https://localhost:8080/"
    },
    "id": "ntC4xL-c8shG",
    "outputId": "661d4b39-b43e-406e-ab27-056a2fca0232"
   },
   "outputs": [
    {
     "data": {
      "text/plain": [
       "((1460, 334), (1460,), (1459, 334))"
      ]
     },
     "execution_count": 177,
     "metadata": {},
     "output_type": "execute_result"
    }
   ],
   "source": [
    "X = all_features.iloc[:len(train_labels), :]\n",
    "X_test = all_features.iloc[len(train_labels):, :]\n",
    "X.shape, train_labels.shape, X_test.shape"
   ]
  },
  {
   "cell_type": "code",
   "execution_count": 178,
   "metadata": {
    "id": "1oCDcbJ19aJE"
   },
   "outputs": [],
   "source": [
    "Y = train_labels"
   ]
  },
  {
   "cell_type": "code",
   "execution_count": 179,
   "metadata": {},
   "outputs": [],
   "source": [
    "variables=(0,\n",
    " 1,\n",
    " 2,\n",
    " 3,\n",
    " 4,\n",
    " 9,\n",
    " 10,\n",
    " 11,\n",
    " 12,\n",
    " 13,\n",
    " 14,\n",
    " 15,\n",
    " 16,\n",
    " 19,\n",
    " 20,\n",
    " 21,\n",
    " 22,\n",
    " 23,\n",
    " 24,\n",
    " 25,\n",
    " 27,\n",
    " 28,\n",
    " 30,\n",
    " 32,\n",
    " 33,\n",
    " 34,\n",
    " 35,\n",
    " 36,\n",
    " 37,\n",
    " 38,\n",
    " 41,\n",
    " 42,\n",
    " 43,\n",
    " 44,\n",
    " 45,\n",
    " 46,\n",
    " 47,\n",
    " 48,\n",
    " 51,\n",
    " 52,\n",
    " 54,\n",
    " 55,\n",
    " 56,\n",
    " 57,\n",
    " 58,\n",
    " 59,\n",
    " 60,\n",
    " 61,\n",
    " 64,\n",
    " 66,\n",
    " 67,\n",
    " 69,\n",
    " 71,\n",
    " 73,\n",
    " 74,\n",
    " 76,\n",
    " 79,\n",
    " 80,\n",
    " 81,\n",
    " 82,\n",
    " 83,\n",
    " 84,\n",
    " 85,\n",
    " 86,\n",
    " 87,\n",
    " 89,\n",
    " 90,\n",
    " 91,\n",
    " 92,\n",
    " 93,\n",
    " 94,\n",
    " 95,\n",
    " 97,\n",
    " 98,\n",
    " 99,\n",
    " 100,\n",
    " 101,\n",
    " 103,\n",
    " 104,\n",
    " 105,\n",
    " 107,\n",
    " 108,\n",
    " 111,\n",
    " 112,\n",
    " 113,\n",
    " 114,\n",
    " 119,\n",
    " 120,\n",
    " 122,\n",
    " 123,\n",
    " 124,\n",
    " 125,\n",
    " 126,\n",
    " 129,\n",
    " 132,\n",
    " 133,\n",
    " 134,\n",
    " 135,\n",
    " 136,\n",
    " 137,\n",
    " 138,\n",
    " 139,\n",
    " 140,\n",
    " 141,\n",
    " 142,\n",
    " 144,\n",
    " 146,\n",
    " 147,\n",
    " 148,\n",
    " 149,\n",
    " 150,\n",
    " 151,\n",
    " 152,\n",
    " 153,\n",
    " 155,\n",
    " 156,\n",
    " 157,\n",
    " 158,\n",
    " 159,\n",
    " 160,\n",
    " 161,\n",
    " 162,\n",
    " 163,\n",
    " 164,\n",
    " 166,\n",
    " 167,\n",
    " 168,\n",
    " 169,\n",
    " 170,\n",
    " 171,\n",
    " 173,\n",
    " 174,\n",
    " 176,\n",
    " 177,\n",
    " 178,\n",
    " 180,\n",
    " 181,\n",
    " 182,\n",
    " 184,\n",
    " 185,\n",
    " 186,\n",
    " 187,\n",
    " 188,\n",
    " 189,\n",
    " 191,\n",
    " 192,\n",
    " 193,\n",
    " 195,\n",
    " 196,\n",
    " 199,\n",
    " 201,\n",
    " 202,\n",
    " 203,\n",
    " 204,\n",
    " 205,\n",
    " 207,\n",
    " 208,\n",
    " 209,\n",
    " 211,\n",
    " 212,\n",
    " 213,\n",
    " 216,\n",
    " 217,\n",
    " 218,\n",
    " 219,\n",
    " 221,\n",
    " 222,\n",
    " 223,\n",
    " 226,\n",
    " 227,\n",
    " 230,\n",
    " 231,\n",
    " 232,\n",
    " 233,\n",
    " 235,\n",
    " 236,\n",
    " 237,\n",
    " 238,\n",
    " 239,\n",
    " 240,\n",
    " 241,\n",
    " 243,\n",
    " 244,\n",
    " 247,\n",
    " 248,\n",
    " 249,\n",
    " 250,\n",
    " 253,\n",
    " 255,\n",
    " 256,\n",
    " 257,\n",
    " 259,\n",
    " 261,\n",
    " 262,\n",
    " 263,\n",
    " 264,\n",
    " 265,\n",
    " 266,\n",
    " 268,\n",
    " 269,\n",
    " 270,\n",
    " 271,\n",
    " 272,\n",
    " 273,\n",
    " 275,\n",
    " 276,\n",
    " 277,\n",
    " 278,\n",
    " 279,\n",
    " 280,\n",
    " 282,\n",
    " 283,\n",
    " 284,\n",
    " 285,\n",
    " 286,\n",
    " 288,\n",
    " 289,\n",
    " 292,\n",
    " 293,\n",
    " 295,\n",
    " 296,\n",
    " 297,\n",
    " 298,\n",
    " 300,\n",
    " 301,\n",
    " 302,\n",
    " 304,\n",
    " 305,\n",
    " 306,\n",
    " 307,\n",
    " 308,\n",
    " 309,\n",
    " 310,\n",
    " 311,\n",
    " 312,\n",
    " 313,\n",
    " 314,\n",
    " 315,\n",
    " 317,\n",
    " 318,\n",
    " 319,\n",
    " 320,\n",
    " 321,\n",
    " 324,\n",
    " 325,\n",
    " 327,\n",
    " 328,\n",
    " 329,\n",
    " 332,\n",
    " 333)"
   ]
  },
  {
   "cell_type": "code",
   "execution_count": 180,
   "metadata": {
    "colab": {
     "base_uri": "https://localhost:8080/"
    },
    "id": "08xPe-Hs9n5e",
    "outputId": "ea19be6f-2c7e-4a52-b3d9-eb6c4e7e6166"
   },
   "outputs": [
    {
     "data": {
      "text/plain": [
       "Index(['LotFrontage', 'LotArea', 'OverallQual', 'OverallCond', 'YearBuilt',\n",
       "       'BsmtUnfSF', 'TotalBsmtSF', '1stFlrSF', '2ndFlrSF', 'LowQualFinSF',\n",
       "       ...\n",
       "       'SaleType_COD', 'SaleType_CWD', 'SaleType_Con', 'SaleType_ConLw',\n",
       "       'SaleType_New', 'SaleType_WD', 'SaleCondition_Abnorml',\n",
       "       'SaleCondition_AdjLand', 'SaleCondition_Normal',\n",
       "       'SaleCondition_Partial'],\n",
       "      dtype='object', length=250)"
      ]
     },
     "execution_count": 180,
     "metadata": {},
     "output_type": "execute_result"
    }
   ],
   "source": [
    "columnas = X.columns[list(variables)]\n",
    "columnas"
   ]
  },
  {
   "cell_type": "code",
   "execution_count": 181,
   "metadata": {},
   "outputs": [],
   "source": [
    "X = X[columnas]"
   ]
  },
  {
   "cell_type": "code",
   "execution_count": 182,
   "metadata": {},
   "outputs": [
    {
     "data": {
      "text/plain": [
       "(1460, 250)"
      ]
     },
     "execution_count": 182,
     "metadata": {},
     "output_type": "execute_result"
    }
   ],
   "source": [
    "X.shape"
   ]
  },
  {
   "cell_type": "code",
   "execution_count": 183,
   "metadata": {
    "id": "Qq1JQyYLXtw0"
   },
   "outputs": [],
   "source": [
    "Y = Y.to_numpy()"
   ]
  },
  {
   "cell_type": "code",
   "execution_count": 184,
   "metadata": {
    "id": "mJGUV9IVYaQB"
   },
   "outputs": [],
   "source": [
    "X = X.to_numpy()"
   ]
  },
  {
   "cell_type": "code",
   "execution_count": 185,
   "metadata": {},
   "outputs": [],
   "source": [
    "def MAPE(y_true, y_pred): \n",
    "    y_true, y_pred = np.array(y_true), np.array(y_pred)\n",
    "    return np.mean(np.abs((y_true - y_pred) / y_true)) * 100"
   ]
  },
  {
   "cell_type": "code",
   "execution_count": 186,
   "metadata": {},
   "outputs": [],
   "source": [
    "def rmse(y_actual, y_predicted):\n",
    "  rms = np.sqrt(mean_squared_error(y_actual, y_predicted))\n",
    "  return rms"
   ]
  },
  {
   "cell_type": "markdown",
   "metadata": {},
   "source": [
    "# Gradient Boosting "
   ]
  },
  {
   "cell_type": "code",
   "execution_count": 187,
   "metadata": {},
   "outputs": [],
   "source": [
    "from scipy.spatial import distance"
   ]
  },
  {
   "cell_type": "code",
   "execution_count": 188,
   "metadata": {},
   "outputs": [],
   "source": [
    "from  sklearn.ensemble import GradientBoostingRegressor"
   ]
  },
  {
   "cell_type": "code",
   "execution_count": 189,
   "metadata": {},
   "outputs": [],
   "source": [
    "def experimentar_GB(num_trees,numero_de_variables, X, Y):\n",
    "    \"\"\"funcion que realiza experimentos de random forest\n",
    "    num_trees: list[int]: lista con el número de arboles usado para el RF\n",
    "    numero_de_variables list[int]: lista con variables para la selección del mejor umbral en cada nodo \n",
    "    X: matriz con las caractersiticas\n",
    "    Y: matriz de numpy con etiquetas\n",
    "    retorna: dataframe con:\n",
    "        -  numero de arboles usados\n",
    "        -  variables para la selección del mejor umbral\n",
    "        - eficiencia de entrenamiento\n",
    "        - desviacion de estandar eficiencia de entrenamiento\n",
    "        - eficiencia de prueba\n",
    "        - desviacion estandar eficiencia de prueba\n",
    "    \"\"\"\n",
    "    \n",
    "    folds = 5\n",
    "    skf = KFold(n_splits=folds)\n",
    "    resultados = pd.DataFrame()\n",
    "    idx = 0\n",
    "    \n",
    "    for trees in num_trees:\n",
    "        for num_variables in numero_de_variables:\n",
    "            ## para almacenar los errores intermedios\n",
    "            EficienciaTrain = []\n",
    "            EficienciaVal = []\n",
    "            EficienciaTrain2 = []\n",
    "            EficienciaVal2 = []\n",
    "            \n",
    "            EficienciaTrain3 = []\n",
    "            EficienciaVal3 = []\n",
    "            EficienciaTrain4 = []\n",
    "            EficienciaVal4 = []\n",
    "            for train, test in skf.split(X=X):\n",
    "                \n",
    "                Xtrain, Xtest = X[train], X[test]\n",
    "                Ytrain, Ytest = Y[train], Y[test]  \n",
    "                #Haga el llamado a la función para crear y entrenar el modelo usando los datos de entrenamiento\n",
    "                modelo = GradientBoostingRegressor(n_estimators=trees,max_features=num_variables)\n",
    "                modelo.fit(Xtrain,Ytrain)\n",
    "                #predecir muestras de entrenamiento\n",
    "                Ytrain_pred = modelo.predict(Xtrain)\n",
    "                #predecir muestras de pruebas\n",
    "                Yest = modelo.predict(Xtest)\n",
    "                #Evaluamos las predicciones del modelo con los datos de test\n",
    "                EficienciaTrain.append(MAPE(Ytrain,Ytrain_pred))\n",
    "                EficienciaVal.append(MAPE(Ytest, Yest))\n",
    "    \n",
    "                EficienciaTrain2.append(rmse(Ytrain,Ytrain_pred))\n",
    "                EficienciaVal2.append(rmse(Ytest, Yest))\n",
    "            \n",
    "                Ytrain1 = np.expm1(Ytrain)\n",
    "                Ytrain_pred1 = np.expm1(Ytrain_pred)\n",
    "                Ytest1 = np.expm1(Ytest)\n",
    "                Yest1 = np.expm1(Yest)\n",
    "            \n",
    "                EficienciaTrain3.append(MAPE(Ytrain1,Ytrain_pred1))\n",
    "                EficienciaVal3.append(MAPE(Ytest1, Yest1))\n",
    "    \n",
    "                EficienciaTrain4.append(rmse(Ytrain1,Ytrain_pred1))\n",
    "                EficienciaVal4.append(rmse(Ytest1, Yest1))\n",
    "            \n",
    "            resultados.loc[idx,'número de arboles'] = trees\n",
    "            resultados.loc[idx,'variables para la selección del mejor umbral'] = num_variables\n",
    "            resultados.loc[idx,'MAPE de entrenamiento'] = np.mean(EficienciaTrain)\n",
    "            resultados.loc[idx,'MAPE Eprueba'] = np.mean(EficienciaVal)\n",
    "            resultados.loc[idx,'MAPE - IC prueba'] = np.std(EficienciaVal)\n",
    "            resultados.loc[idx,'RMSE entrenamiento'] = np.mean(EficienciaTrain2)\n",
    "            resultados.loc[idx,'RMSE prueba'] = np.mean(EficienciaVal2)\n",
    "            resultados.loc[idx,'RMSE - IC prueba'] = np.std(EficienciaVal2)\n",
    "            \n",
    "            resultados.loc[idx,'MAPE de entrenamiento sin'] = np.mean(EficienciaTrain3)\n",
    "            resultados.loc[idx,'MAPE Eprueba sin'] = np.mean(EficienciaVal3)\n",
    "            resultados.loc[idx,'MAPE - IC prueba sin'] = np.std(EficienciaVal3)\n",
    "            resultados.loc[idx,'RMSE entrenamiento sin'] = np.mean(EficienciaTrain4)\n",
    "            resultados.loc[idx,'RMSE prueba sin'] = np.mean(EficienciaVal4)\n",
    "            resultados.loc[idx,'RMSE - IC prueba sin'] = np.std(EficienciaVal4)\n",
    "            \n",
    "            \n",
    "            idx= idx +1\n",
    "        print(f\"termina para {trees} arboles\")\n",
    "        \n",
    "    return (resultados)"
   ]
  },
  {
   "cell_type": "code",
   "execution_count": 190,
   "metadata": {},
   "outputs": [
    {
     "name": "stdout",
     "output_type": "stream",
     "text": [
      "termina para 800 arboles\n"
     ]
    },
    {
     "data": {
      "text/html": [
       "<div>\n",
       "<style scoped>\n",
       "    .dataframe tbody tr th:only-of-type {\n",
       "        vertical-align: middle;\n",
       "    }\n",
       "\n",
       "    .dataframe tbody tr th {\n",
       "        vertical-align: top;\n",
       "    }\n",
       "\n",
       "    .dataframe thead th {\n",
       "        text-align: right;\n",
       "    }\n",
       "</style>\n",
       "<table border=\"1\" class=\"dataframe\">\n",
       "  <thead>\n",
       "    <tr style=\"text-align: right;\">\n",
       "      <th></th>\n",
       "      <th>número de arboles</th>\n",
       "      <th>variables para la selección del mejor umbral</th>\n",
       "      <th>MAPE de entrenamiento</th>\n",
       "      <th>MAPE Eprueba</th>\n",
       "      <th>MAPE - IC prueba</th>\n",
       "      <th>RMSE entrenamiento</th>\n",
       "      <th>RMSE prueba</th>\n",
       "      <th>RMSE - IC prueba</th>\n",
       "      <th>MAPE de entrenamiento sin</th>\n",
       "      <th>MAPE Eprueba sin</th>\n",
       "      <th>MAPE - IC prueba sin</th>\n",
       "      <th>RMSE entrenamiento sin</th>\n",
       "      <th>RMSE prueba sin</th>\n",
       "      <th>RMSE - IC prueba sin</th>\n",
       "    </tr>\n",
       "  </thead>\n",
       "  <tbody>\n",
       "    <tr>\n",
       "      <th>0</th>\n",
       "      <td>800.0</td>\n",
       "      <td>100.0</td>\n",
       "      <td>0.14589</td>\n",
       "      <td>0.669284</td>\n",
       "      <td>0.017517</td>\n",
       "      <td>0.023127</td>\n",
       "      <td>0.117604</td>\n",
       "      <td>0.008454</td>\n",
       "      <td>1.751328</td>\n",
       "      <td>8.182321</td>\n",
       "      <td>0.351084</td>\n",
       "      <td>4208.558966</td>\n",
       "      <td>23583.190479</td>\n",
       "      <td>3063.620567</td>\n",
       "    </tr>\n",
       "  </tbody>\n",
       "</table>\n",
       "</div>"
      ],
      "text/plain": [
       "   número de arboles  variables para la selección del mejor umbral  \\\n",
       "0              800.0                                         100.0   \n",
       "\n",
       "   MAPE de entrenamiento  MAPE Eprueba  MAPE - IC prueba  RMSE entrenamiento  \\\n",
       "0                0.14589      0.669284          0.017517            0.023127   \n",
       "\n",
       "   RMSE prueba  RMSE - IC prueba  MAPE de entrenamiento sin  MAPE Eprueba sin  \\\n",
       "0     0.117604          0.008454                   1.751328          8.182321   \n",
       "\n",
       "   MAPE - IC prueba sin  RMSE entrenamiento sin  RMSE prueba sin  \\\n",
       "0              0.351084             4208.558966     23583.190479   \n",
       "\n",
       "   RMSE - IC prueba sin  \n",
       "0           3063.620567  "
      ]
     },
     "execution_count": 190,
     "metadata": {},
     "output_type": "execute_result"
    }
   ],
   "source": [
    "resultados2 = experimentar_GB([800], [100], X,Y)\n",
    "resultados2"
   ]
  },
  {
   "cell_type": "markdown",
   "metadata": {},
   "source": [
    "# Ventana de Parzen - VP"
   ]
  },
  {
   "cell_type": "code",
   "execution_count": 191,
   "metadata": {},
   "outputs": [],
   "source": [
    "from scipy.spatial.distance import euclidean"
   ]
  },
  {
   "cell_type": "code",
   "execution_count": 192,
   "metadata": {},
   "outputs": [],
   "source": [
    "def kernel_gaussiano(x):\n",
    "    return (np.exp((-0.5)*x**2))\n",
    "\n",
    "def ParzenWindow(x,Data,h,Datay=None):\n",
    "    \"\"\"\"ventana de parzen\n",
    "    x: vector con representando una sola muestra\n",
    "    Data: vector de muestras de entrenamiento\n",
    "    h: ancho de la ventana de kernel\n",
    "    Datay: vector con los valores de salida (y), Si no se pasa como argumento, \n",
    "        se calcula un ventana de parzen sin multiplicar los valores de este vector.\n",
    "    retorna: el valor de ventana de parzen para una muestra\n",
    "    \"\"\"\n",
    "    h = h\n",
    "    Ns = Data.shape[0]\n",
    "    suma = 0\n",
    "    for k in range(Ns):\n",
    "        u = euclidean(x,Data[k,:])\n",
    "        if Datay is None:\n",
    "            suma += kernel_gaussiano(u/h)\n",
    "        else:\n",
    "            suma += kernel_gaussiano(u/h)*Datay[k]\n",
    "    return suma"
   ]
  },
  {
   "cell_type": "code",
   "execution_count": 193,
   "metadata": {},
   "outputs": [],
   "source": [
    "def Nadaraya_Watson(X_train, Y_train, X_test, h):\n",
    "    \"\"\" Funcion que implementa metodo de ventana de parzen para\n",
    "        para clasificación\n",
    "    X_train: es la matriz con las muestras de entrenamiento\n",
    "    Y_train: es un vector con los valores de salida pra cada una de las muestras de entrenamiento\n",
    "    X_test: es la matriz con las muestras de validación\n",
    "    h (float): ancho de h de la ventana\n",
    "    retorna: - las estimaciones del modelo parzen para el conjunto X_test \n",
    "              esta matriz debe tener un shape de [row/muestras de X_test]\n",
    "             - las probabilidades de la vetana [row/muestras de X_test, numero de clases]  \n",
    "    \"\"\"\n",
    "        \n",
    "    Yest = np.zeros(X_test.shape[0])\n",
    "    for i in range(X_test.shape[0]):\n",
    "      Yest[i]= ParzenWindow(X_test[i],X_train,h,Y_train)/ParzenWindow(X_test[i],X_train,h,Datay=None)\n",
    "    \n",
    "    #Debe retornar un vector que contenga las predicciones para cada una de las muestras en X_val, en el mismo orden.  \n",
    "    return Yest"
   ]
  },
  {
   "cell_type": "code",
   "execution_count": 194,
   "metadata": {},
   "outputs": [],
   "source": [
    "def experimentarParzen (X, Y, hs):\n",
    "    \"\"\"Función que realiza los experimentos con knn usando\n",
    "       una estrategia de validacion entrenamiento y pruebas\n",
    "    X: matriz de numpy conjunto con muestras y caracteristicas\n",
    "    Y: vector de numpy con los valores de las etiquetas\n",
    "    ks: List[int/float] lista con los valores de k-vecinos a usar\n",
    "    retorna: dataframe con los resultados, debe contener las siguientes columnas:\n",
    "        - el ancho de ventana, \n",
    "        - el error medio de prueba\n",
    "        - la desviacion estandar del error\n",
    "        - número de promedio en el conjunto de prueba/validacion\n",
    "    \"\"\"\n",
    "    # se usa la función para implementar la estrategia de validación.\n",
    "    kfolds = KFold(n_splits=4)\n",
    "    resultados = pd.DataFrame()\n",
    "    idx = 0\n",
    "    # iteramos sobre los valores de hs\n",
    "    for h in hs:\n",
    "        # lista para almacenar los errores y numero de muestras\n",
    "        # de cada iteración\n",
    "        # de la validación\n",
    "        error_temp = []\n",
    "        error_temp2 = []\n",
    "        error_temp3 = []\n",
    "        error_temp4 = []\n",
    "        \n",
    "        numero_muestras = []\n",
    "        \n",
    "        for train, test in kfolds.split(X):\n",
    "\n",
    "            Xtrain = X[train,:]\n",
    "            Ytrain = Y[train]\n",
    "            Xtest = X[test,:]\n",
    "            Ytest = Y[test]\n",
    "            #normalizamos los datos\n",
    "            scaler = StandardScaler()\n",
    "            scaler.fit(Xtrain)\n",
    "            Xtrain = scaler.transform(Xtrain)\n",
    "            Xtest = scaler.transform(Xtest)\n",
    "            \n",
    "            Yest = Nadaraya_Watson(Xtrain,Ytrain,Xtest,h)            \n",
    "            errorTest = MAPE(Ytest,Yest)\n",
    "            error_temp.append(errorTest)\n",
    "            errorTest = rmse(Ytest,Yest)\n",
    "            error_temp2.append(errorTest)\n",
    "            \n",
    "            Yest1 = np.expm1(Yest)\n",
    "            Ytest1 = np.expm1(Ytest)\n",
    "            errorTest = MAPE(Ytest1,Yest1)\n",
    "            error_temp3.append(errorTest)\n",
    "            errorTest = rmse(Ytest1,Yest1)\n",
    "            error_temp4.append(errorTest)\n",
    "            \n",
    "            numero_muestras.append(Xtest.shape[0])\n",
    "    \n",
    "        resultados.loc[idx,'ancho de ventana'] = h \n",
    "        resultados.loc[idx,'MAPE con transformacion'] = np.mean(error_temp)\n",
    "        resultados.loc[idx,'MAPE desviación estandar con'] =np.std(error_temp)\n",
    "        resultados.loc[idx,'RMSE con transformacion'] = np.mean(error_temp2)\n",
    "        resultados.loc[idx,'RMSE desviación estandar con'] =np.std(error_temp2)\n",
    "        \n",
    "        resultados.loc[idx,'MAPE sin transformar'] = np.mean(error_temp3)\n",
    "        resultados.loc[idx,'MAPE desviación estandar sin'] =np.std(error_temp3)\n",
    "        resultados.loc[idx,'RMSE sin transformar'] = np.mean(error_temp4)\n",
    "        resultados.loc[idx,'RMSE desviación estandar sin'] =np.std(error_temp4)\n",
    "        resultados.loc[idx,'muestras en conjunto de pruebas (media)'] = np.mean(numero_muestras)\n",
    "        idx+=1\n",
    "    return (resultados)"
   ]
  },
  {
   "cell_type": "code",
   "execution_count": 195,
   "metadata": {},
   "outputs": [],
   "source": [
    "hs = [3.5]\n",
    "experimentos_parzen = experimentarParzen(X,Y, hs)"
   ]
  },
  {
   "cell_type": "code",
   "execution_count": 196,
   "metadata": {},
   "outputs": [
    {
     "data": {
      "text/html": [
       "<div>\n",
       "<style scoped>\n",
       "    .dataframe tbody tr th:only-of-type {\n",
       "        vertical-align: middle;\n",
       "    }\n",
       "\n",
       "    .dataframe tbody tr th {\n",
       "        vertical-align: top;\n",
       "    }\n",
       "\n",
       "    .dataframe thead th {\n",
       "        text-align: right;\n",
       "    }\n",
       "</style>\n",
       "<table border=\"1\" class=\"dataframe\">\n",
       "  <thead>\n",
       "    <tr style=\"text-align: right;\">\n",
       "      <th></th>\n",
       "      <th>ancho de ventana</th>\n",
       "      <th>MAPE con transformacion</th>\n",
       "      <th>MAPE desviación estandar con</th>\n",
       "      <th>RMSE con transformacion</th>\n",
       "      <th>RMSE desviación estandar con</th>\n",
       "      <th>MAPE sin transformar</th>\n",
       "      <th>MAPE desviación estandar sin</th>\n",
       "      <th>RMSE sin transformar</th>\n",
       "      <th>RMSE desviación estandar sin</th>\n",
       "      <th>muestras en conjunto de pruebas (media)</th>\n",
       "    </tr>\n",
       "  </thead>\n",
       "  <tbody>\n",
       "    <tr>\n",
       "      <th>0</th>\n",
       "      <td>3.5</td>\n",
       "      <td>1.230661</td>\n",
       "      <td>0.060913</td>\n",
       "      <td>0.207626</td>\n",
       "      <td>0.012756</td>\n",
       "      <td>15.214861</td>\n",
       "      <td>0.913107</td>\n",
       "      <td>43374.747212</td>\n",
       "      <td>4670.474484</td>\n",
       "      <td>365.0</td>\n",
       "    </tr>\n",
       "  </tbody>\n",
       "</table>\n",
       "</div>"
      ],
      "text/plain": [
       "   ancho de ventana  MAPE con transformacion  MAPE desviación estandar con  \\\n",
       "0               3.5                 1.230661                      0.060913   \n",
       "\n",
       "   RMSE con transformacion  RMSE desviación estandar con  \\\n",
       "0                 0.207626                      0.012756   \n",
       "\n",
       "   MAPE sin transformar  MAPE desviación estandar sin  RMSE sin transformar  \\\n",
       "0             15.214861                      0.913107          43374.747212   \n",
       "\n",
       "   RMSE desviación estandar sin  muestras en conjunto de pruebas (media)  \n",
       "0                   4670.474484                                    365.0  "
      ]
     },
     "execution_count": 196,
     "metadata": {},
     "output_type": "execute_result"
    }
   ],
   "source": [
    "experimentos_parzen"
   ]
  },
  {
   "cell_type": "markdown",
   "metadata": {},
   "source": [
    "# Random Forest"
   ]
  },
  {
   "cell_type": "code",
   "execution_count": 197,
   "metadata": {},
   "outputs": [],
   "source": [
    "from  sklearn.ensemble import RandomForestRegressor\n",
    "from sklearn.preprocessing import StandardScaler"
   ]
  },
  {
   "cell_type": "code",
   "execution_count": 198,
   "metadata": {},
   "outputs": [],
   "source": [
    "def experimentar_rf(num_trees,numero_de_variables, X, Y):\n",
    "    folds = 10\n",
    "    skf = KFold(n_splits=folds)\n",
    "    resultados = pd.DataFrame()\n",
    "    idx = 0\n",
    "    \n",
    "    for trees in num_trees:\n",
    "        for num_variables in numero_de_variables:\n",
    "            ## para almacenar los errores intermedios\n",
    "            EficienciaTrain = []\n",
    "            EficienciaVal = []\n",
    "            EficienciaTrain2 = []\n",
    "            EficienciaVal2 = []\n",
    "            \n",
    "            EficienciaTrain3 = []\n",
    "            EficienciaVal3 = []\n",
    "            EficienciaTrain4 = []\n",
    "            EficienciaVal4 = []\n",
    "            for train, test in skf.split(X=X):\n",
    "                \n",
    "                Xtrain, Xtest = X[train], X[test]\n",
    "                Ytrain, Ytest = Y[train], Y[test]  \n",
    "                \n",
    "                scaler = StandardScaler().fit(X=Xtrain)\n",
    "                Xtrain = scaler.fit_transform(Xtrain)\n",
    "                Xtest = scaler.transform(Xtest)\n",
    "                #Haga el llamado a la función para crear y entrenar el modelo usando los datos de entrenamiento\n",
    "                modelo = RandomForestRegressor(n_estimators=trees,max_features=num_variables)\n",
    "                modelo.fit(Xtrain,Ytrain)\n",
    "                #predecir muestras de entrenamiento\n",
    "                Ytrain_pred = modelo.predict(Xtrain)\n",
    "                #predecir muestras de pruebas\n",
    "                Yest = modelo.predict(Xtest)\n",
    "                #Evaluamos las predicciones del modelo con los datos de test\n",
    "                EficienciaTrain.append(MAPE(Ytrain,Ytrain_pred))\n",
    "                EficienciaVal.append(MAPE(Ytest, Yest))\n",
    "    \n",
    "                EficienciaTrain2.append(rmse(Ytrain,Ytrain_pred))\n",
    "                EficienciaVal2.append(rmse(Ytest, Yest))\n",
    "\n",
    "                Ytrain1 = np.expm1(Ytrain)\n",
    "                Ytrain_pred1 = np.expm1(Ytrain_pred)\n",
    "                Ytest1 = np.expm1(Ytest)\n",
    "                Yest1 = np.expm1(Yest)\n",
    "            \n",
    "                EficienciaTrain3.append(MAPE(Ytrain1,Ytrain_pred1))\n",
    "                EficienciaVal3.append(MAPE(Ytest1, Yest1))\n",
    "    \n",
    "                EficienciaTrain4.append(rmse(Ytrain1,Ytrain_pred1))\n",
    "                EficienciaVal4.append(rmse(Ytest1, Yest1))                \n",
    "                \n",
    "                \n",
    "            resultados.loc[idx,'número de arboles'] = trees\n",
    "            resultados.loc[idx,'variables para la selección del mejor umbral'] = num_variables\n",
    "            resultados.loc[idx,'MAPE de entrenamiento'] = np.mean(EficienciaTrain)\n",
    "            resultados.loc[idx,'MAPE Eprueba'] = np.mean(EficienciaVal)\n",
    "            resultados.loc[idx,'MAPE - IC prueba'] = np.std(EficienciaVal)\n",
    "            resultados.loc[idx,'RMSE entrenamiento'] = np.mean(EficienciaTrain2)\n",
    "            resultados.loc[idx,'RMSE prueba'] = np.mean(EficienciaVal2)\n",
    "            resultados.loc[idx,'RMSE - IC prueba'] = np.std(EficienciaVal2)\n",
    "            resultados.loc[idx,'MAPE de entrenamiento sin'] = np.mean(EficienciaTrain3)\n",
    "            resultados.loc[idx,'MAPE Eprueba sin'] = np.mean(EficienciaVal3)\n",
    "            resultados.loc[idx,'MAPE - IC prueba sin'] = np.std(EficienciaVal3)\n",
    "            resultados.loc[idx,'RMSE entrenamiento sin'] = np.mean(EficienciaTrain4)\n",
    "            resultados.loc[idx,'RMSE prueba sin'] = np.mean(EficienciaVal4)\n",
    "            resultados.loc[idx,'RMSE - IC prueba sin'] = np.std(EficienciaVal4)\n",
    "            \n",
    "            idx= idx +1\n",
    "        print(f\"termina para {trees} arboles\")\n",
    "        \n",
    "    return (resultados)"
   ]
  },
  {
   "cell_type": "code",
   "execution_count": 199,
   "metadata": {},
   "outputs": [
    {
     "name": "stdout",
     "output_type": "stream",
     "text": [
      "termina para 2500 arboles\n"
     ]
    }
   ],
   "source": [
    "resultados1 = experimentar_rf([2500], [100], X,Y)"
   ]
  },
  {
   "cell_type": "code",
   "execution_count": 200,
   "metadata": {},
   "outputs": [
    {
     "data": {
      "text/html": [
       "<div>\n",
       "<style scoped>\n",
       "    .dataframe tbody tr th:only-of-type {\n",
       "        vertical-align: middle;\n",
       "    }\n",
       "\n",
       "    .dataframe tbody tr th {\n",
       "        vertical-align: top;\n",
       "    }\n",
       "\n",
       "    .dataframe thead th {\n",
       "        text-align: right;\n",
       "    }\n",
       "</style>\n",
       "<table border=\"1\" class=\"dataframe\">\n",
       "  <thead>\n",
       "    <tr style=\"text-align: right;\">\n",
       "      <th></th>\n",
       "      <th>número de arboles</th>\n",
       "      <th>variables para la selección del mejor umbral</th>\n",
       "      <th>MAPE de entrenamiento</th>\n",
       "      <th>MAPE Eprueba</th>\n",
       "      <th>MAPE - IC prueba</th>\n",
       "      <th>RMSE entrenamiento</th>\n",
       "      <th>RMSE prueba</th>\n",
       "      <th>RMSE - IC prueba</th>\n",
       "      <th>MAPE de entrenamiento sin</th>\n",
       "      <th>MAPE Eprueba sin</th>\n",
       "      <th>MAPE - IC prueba sin</th>\n",
       "      <th>RMSE entrenamiento sin</th>\n",
       "      <th>RMSE prueba sin</th>\n",
       "      <th>RMSE - IC prueba sin</th>\n",
       "    </tr>\n",
       "  </thead>\n",
       "  <tbody>\n",
       "    <tr>\n",
       "      <th>0</th>\n",
       "      <td>2500.0</td>\n",
       "      <td>100.0</td>\n",
       "      <td>0.276115</td>\n",
       "      <td>0.748654</td>\n",
       "      <td>0.054332</td>\n",
       "      <td>0.049905</td>\n",
       "      <td>0.133625</td>\n",
       "      <td>0.016201</td>\n",
       "      <td>3.335476</td>\n",
       "      <td>9.289275</td>\n",
       "      <td>0.839263</td>\n",
       "      <td>10511.581708</td>\n",
       "      <td>27628.961164</td>\n",
       "      <td>6744.171262</td>\n",
       "    </tr>\n",
       "  </tbody>\n",
       "</table>\n",
       "</div>"
      ],
      "text/plain": [
       "   número de arboles  variables para la selección del mejor umbral  \\\n",
       "0             2500.0                                         100.0   \n",
       "\n",
       "   MAPE de entrenamiento  MAPE Eprueba  MAPE - IC prueba  RMSE entrenamiento  \\\n",
       "0               0.276115      0.748654          0.054332            0.049905   \n",
       "\n",
       "   RMSE prueba  RMSE - IC prueba  MAPE de entrenamiento sin  MAPE Eprueba sin  \\\n",
       "0     0.133625          0.016201                   3.335476          9.289275   \n",
       "\n",
       "   MAPE - IC prueba sin  RMSE entrenamiento sin  RMSE prueba sin  \\\n",
       "0              0.839263            10511.581708     27628.961164   \n",
       "\n",
       "   RMSE - IC prueba sin  \n",
       "0           6744.171262  "
      ]
     },
     "execution_count": 200,
     "metadata": {},
     "output_type": "execute_result"
    }
   ],
   "source": [
    "resultados1"
   ]
  }
 ],
 "metadata": {
  "colab": {
   "collapsed_sections": [],
   "name": "ProyectoDeSemestre.ipynb",
   "provenance": []
  },
  "kernelspec": {
   "display_name": "Python 3",
   "language": "python",
   "name": "python3"
  },
  "language_info": {
   "codemirror_mode": {
    "name": "ipython",
    "version": 3
   },
   "file_extension": ".py",
   "mimetype": "text/x-python",
   "name": "python",
   "nbconvert_exporter": "python",
   "pygments_lexer": "ipython3",
   "version": "3.7.4"
  }
 },
 "nbformat": 4,
 "nbformat_minor": 1
}
